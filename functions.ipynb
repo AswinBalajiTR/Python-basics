{
 "cells": [
  {
   "cell_type": "markdown",
   "id": "8040b33e",
   "metadata": {},
   "source": [
    "# Function Definition "
   ]
  },
  {
   "cell_type": "markdown",
   "id": "68775336",
   "metadata": {},
   "source": [
    "#### A function is a block of reusable code that runs when called"
   ]
  },
  {
   "cell_type": "code",
   "execution_count": 1,
   "id": "7fb24a5b",
   "metadata": {},
   "outputs": [
    {
     "name": "stdout",
     "output_type": "stream",
     "text": [
      "Jai Hind\n"
     ]
    }
   ],
   "source": [
    "print(\"Jai Hind\")"
   ]
  },
  {
   "cell_type": "code",
   "execution_count": 9,
   "id": "cf56db80",
   "metadata": {},
   "outputs": [
    {
     "name": "stdout",
     "output_type": "stream",
     "text": [
      "ALU,CPU,RAM,ROM\n",
      "\n",
      "\n",
      "These are functional units of computer\n"
     ]
    }
   ],
   "source": [
    "print(\"ALU\",\"CPU\",\"RAM\",\"ROM\",sep=\",\")\n",
    "print(\"These are functional units of computer\")"
   ]
  },
  {
   "cell_type": "code",
   "execution_count": 18,
   "id": "58e4da37",
   "metadata": {},
   "outputs": [
    {
     "name": "stdout",
     "output_type": "stream",
     "text": [
      "I am curious to learn Data Science\n",
      "I am,curious,to,learn,Data,Science\n"
     ]
    }
   ],
   "source": [
    "print(\"I am curious to learn Data Science\",sep=\",\")\n",
    "print(\"I am\",\"curious\",\"to\",\"learn\",\"Data\",\"Science\",sep=\",\")"
   ]
  },
  {
   "cell_type": "markdown",
   "id": "1c38faa7",
   "metadata": {},
   "source": [
    "# Command for Spaces"
   ]
  },
  {
   "cell_type": "markdown",
   "id": "cd2769fb",
   "metadata": {},
   "source": [
    "## \"\\n\""
   ]
  },
  {
   "cell_type": "code",
   "execution_count": 23,
   "id": "0204a90d",
   "metadata": {},
   "outputs": [
    {
     "name": "stdout",
     "output_type": "stream",
     "text": [
      "Incredible India !\n",
      "\n",
      "\n",
      "Jai Hind !!!\n"
     ]
    }
   ],
   "source": [
    "print(\"Incredible India !\")\n",
    "print(\"\\n\")\n",
    "print(\"Jai Hind !!!\")"
   ]
  },
  {
   "cell_type": "markdown",
   "id": "23b0a9e9",
   "metadata": {},
   "source": [
    "## \"\\t\""
   ]
  },
  {
   "cell_type": "code",
   "execution_count": 24,
   "id": "150dc317",
   "metadata": {},
   "outputs": [
    {
     "name": "stdout",
     "output_type": "stream",
     "text": [
      "Incredible India !\n",
      "\t\n",
      "Jai Hind !!!\n"
     ]
    }
   ],
   "source": [
    "print(\"Incredible India !\")\n",
    "print(\"\\t\")\n",
    "print(\"Jai Hind !!!\")"
   ]
  },
  {
   "cell_type": "markdown",
   "id": "fa04df4f",
   "metadata": {},
   "source": [
    "# Examples"
   ]
  },
  {
   "cell_type": "code",
   "execution_count": 29,
   "id": "c706910f",
   "metadata": {
    "scrolled": true
   },
   "outputs": [
    {
     "ename": "SyntaxError",
     "evalue": "invalid syntax (<ipython-input-29-22d8744b580d>, line 1)",
     "output_type": "error",
     "traceback": [
      "\u001b[1;36m  File \u001b[1;32m\"<ipython-input-29-22d8744b580d>\"\u001b[1;36m, line \u001b[1;32m1\u001b[0m\n\u001b[1;33m    print(\"Hi, This is Aakash\"s car\")\u001b[0m\n\u001b[1;37m                              ^\u001b[0m\n\u001b[1;31mSyntaxError\u001b[0m\u001b[1;31m:\u001b[0m invalid syntax\n"
     ]
    }
   ],
   "source": [
    "print(\"Hi, This is Aakash\"s car\")"
   ]
  },
  {
   "cell_type": "markdown",
   "id": "f641a21e",
   "metadata": {},
   "source": [
    "Use backslash to clear that error"
   ]
  },
  {
   "cell_type": "code",
   "execution_count": 30,
   "id": "d8a810dc",
   "metadata": {},
   "outputs": [
    {
     "name": "stdout",
     "output_type": "stream",
     "text": [
      "Hi, This is Aakash\"s car\n"
     ]
    }
   ],
   "source": [
    "print(\"Hi, This is Aakash\\\"s car\")"
   ]
  },
  {
   "cell_type": "code",
   "execution_count": 32,
   "id": "154130c1",
   "metadata": {},
   "outputs": [
    {
     "ename": "SyntaxError",
     "evalue": "EOL while scanning string literal (<ipython-input-32-b2d86ef109f0>, line 1)",
     "output_type": "error",
     "traceback": [
      "\u001b[1;36m  File \u001b[1;32m\"<ipython-input-32-b2d86ef109f0>\"\u001b[1;36m, line \u001b[1;32m1\u001b[0m\n\u001b[1;33m    print(\"Python is fun')\u001b[0m\n\u001b[1;37m                          ^\u001b[0m\n\u001b[1;31mSyntaxError\u001b[0m\u001b[1;31m:\u001b[0m EOL while scanning string literal\n"
     ]
    }
   ],
   "source": [
    "print(\"Python is fun')"
   ]
  },
  {
   "cell_type": "code",
   "execution_count": 33,
   "id": "36cd57ce",
   "metadata": {},
   "outputs": [
    {
     "name": "stdout",
     "output_type": "stream",
     "text": [
      "Python is fun\n"
     ]
    }
   ],
   "source": [
    "print(\"Python is fun\")"
   ]
  },
  {
   "cell_type": "markdown",
   "id": "e4e49281",
   "metadata": {},
   "source": [
    "## Concatenation using print()"
   ]
  },
  {
   "cell_type": "code",
   "execution_count": 37,
   "id": "e27d2a94",
   "metadata": {},
   "outputs": [
    {
     "name": "stdout",
     "output_type": "stream",
     "text": [
      "Pythoniseasytolearn\n"
     ]
    }
   ],
   "source": [
    "print(\"Python\"+\"is\"+\"easy\"+\"to\"+\"learn\")"
   ]
  },
  {
   "cell_type": "code",
   "execution_count": 36,
   "id": "738de4aa",
   "metadata": {},
   "outputs": [
    {
     "name": "stdout",
     "output_type": "stream",
     "text": [
      "Python is easy to learn\n"
     ]
    }
   ],
   "source": [
    "print(\"Python\"+\" is\"+\" easy\"+\" to\"+\" learn\")"
   ]
  },
  {
   "cell_type": "markdown",
   "id": "7f8b61a8",
   "metadata": {},
   "source": [
    "## Concatenation with typecasting"
   ]
  },
  {
   "cell_type": "code",
   "execution_count": 39,
   "id": "764de5b6",
   "metadata": {},
   "outputs": [
    {
     "name": "stdout",
     "output_type": "stream",
     "text": [
      "Sam's age is 25\n"
     ]
    }
   ],
   "source": [
    "print(\"Sam's age is \"+str(25))"
   ]
  },
  {
   "cell_type": "code",
   "execution_count": 43,
   "id": "fe438051",
   "metadata": {},
   "outputs": [
    {
     "name": "stdout",
     "output_type": "stream",
     "text": [
      "Sam's age is 25.0\n"
     ]
    }
   ],
   "source": [
    "print(\"Sam's age is \"+ str(float(25)) )"
   ]
  }
 ],
 "metadata": {
  "kernelspec": {
   "display_name": "Python 3",
   "language": "python",
   "name": "python3"
  },
  "language_info": {
   "codemirror_mode": {
    "name": "ipython",
    "version": 3
   },
   "file_extension": ".py",
   "mimetype": "text/x-python",
   "name": "python",
   "nbconvert_exporter": "python",
   "pygments_lexer": "ipython3",
   "version": "3.8.8"
  }
 },
 "nbformat": 4,
 "nbformat_minor": 5
}
