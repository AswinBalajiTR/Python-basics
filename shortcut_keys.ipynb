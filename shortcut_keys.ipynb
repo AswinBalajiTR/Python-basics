{
 "cells": [
  {
   "cell_type": "markdown",
   "id": "22ed853c",
   "metadata": {},
   "source": [
    "### Hello World"
   ]
  },
  {
   "cell_type": "code",
   "execution_count": 12,
   "id": "4809418b",
   "metadata": {},
   "outputs": [
    {
     "name": "stdout",
     "output_type": "stream",
     "text": [
      "Hello World\n"
     ]
    }
   ],
   "source": [
    "print(\"Hello World\")"
   ]
  },
  {
   "cell_type": "markdown",
   "id": "b593a2d9",
   "metadata": {},
   "source": [
    "### Integer and String display"
   ]
  },
  {
   "cell_type": "code",
   "execution_count": 20,
   "id": "27aea098",
   "metadata": {},
   "outputs": [
    {
     "name": "stdout",
     "output_type": "stream",
     "text": [
      "5 Star\n"
     ]
    }
   ],
   "source": [
    "a=5\n",
    "print(a,\"Star\");"
   ]
  },
  {
   "cell_type": "markdown",
   "id": "c4e64d90",
   "metadata": {},
   "source": [
    "### Shortcut Keys"
   ]
  },
  {
   "cell_type": "code",
   "execution_count": null,
   "id": "fcc801e2",
   "metadata": {},
   "outputs": [],
   "source": [
    "# Shift+Enter => Run"
   ]
  },
  {
   "cell_type": "code",
   "execution_count": null,
   "id": "b6264f35",
   "metadata": {},
   "outputs": [],
   "source": [
    "# Insert a cell above => A"
   ]
  },
  {
   "cell_type": "code",
   "execution_count": null,
   "id": "fc5f284e",
   "metadata": {},
   "outputs": [],
   "source": [
    "# Inser a cell below => B"
   ]
  },
  {
   "cell_type": "code",
   "execution_count": null,
   "id": "04af5e7e",
   "metadata": {},
   "outputs": [],
   "source": [
    "# Delete => X or DD"
   ]
  },
  {
   "cell_type": "code",
   "execution_count": null,
   "id": "2ba954dc",
   "metadata": {},
   "outputs": [],
   "source": [
    "# Markdown => M & Shift + Enter"
   ]
  }
 ],
 "metadata": {
  "kernelspec": {
   "display_name": "Python 3",
   "language": "python",
   "name": "python3"
  },
  "language_info": {
   "codemirror_mode": {
    "name": "ipython",
    "version": 3
   },
   "file_extension": ".py",
   "mimetype": "text/x-python",
   "name": "python",
   "nbconvert_exporter": "python",
   "pygments_lexer": "ipython3",
   "version": "3.8.8"
  }
 },
 "nbformat": 4,
 "nbformat_minor": 5
}
