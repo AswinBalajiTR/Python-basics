{
 "cells": [
  {
   "cell_type": "markdown",
   "id": "37a6ebac",
   "metadata": {},
   "source": [
    "# List"
   ]
  },
  {
   "cell_type": "markdown",
   "id": "01afa34b",
   "metadata": {},
   "source": [
    "### Properties"
   ]
  },
  {
   "cell_type": "code",
   "execution_count": null,
   "id": "f74fbaf0",
   "metadata": {},
   "outputs": [],
   "source": [
    "#Enclosed Inside Brackets\n",
    "sample=[1,2,3,4,5]\n",
    "print(sample)"
   ]
  },
  {
   "cell_type": "code",
   "execution_count": 7,
   "id": "5084f1d2",
   "metadata": {},
   "outputs": [
    {
     "name": "stdout",
     "output_type": "stream",
     "text": [
      "[1, 1.5, True, 'Hello']\n"
     ]
    }
   ],
   "source": [
    "#Heterogeneous\n",
    "l=[1,1.5,True,\"Hello\"]\n",
    "print(l)"
   ]
  },
  {
   "cell_type": "code",
   "execution_count": 2,
   "id": "27df6061",
   "metadata": {},
   "outputs": [
    {
     "name": "stdout",
     "output_type": "stream",
     "text": [
      "1.5\n"
     ]
    }
   ],
   "source": [
    "#Accessible through Index\n",
    "print(l[1])"
   ]
  },
  {
   "cell_type": "code",
   "execution_count": 3,
   "id": "f8c84e19",
   "metadata": {},
   "outputs": [
    {
     "name": "stdout",
     "output_type": "stream",
     "text": [
      "[1, 1.89, True, 'Hello']\n"
     ]
    }
   ],
   "source": [
    "#Mutable - we could modify list values after creation\n",
    "l[1]=1.89\n",
    "print(l)"
   ]
  },
  {
   "cell_type": "code",
   "execution_count": 10,
   "id": "a5d91655",
   "metadata": {},
   "outputs": [
    {
     "name": "stdout",
     "output_type": "stream",
     "text": [
      "[1, 1, 2, 2, 3, 4, 5]\n"
     ]
    }
   ],
   "source": [
    "#Allows duplicates\n",
    "lst=[1,1,2,2,3,4,5]\n",
    "print(lst)"
   ]
  },
  {
   "cell_type": "markdown",
   "id": "f62c66a9",
   "metadata": {},
   "source": [
    "# List functions with examples"
   ]
  },
  {
   "cell_type": "code",
   "execution_count": 19,
   "id": "7ff073c7",
   "metadata": {},
   "outputs": [
    {
     "name": "stdout",
     "output_type": "stream",
     "text": [
      "[1, 'a', 3, 'c', 4, 'd']\n"
     ]
    }
   ],
   "source": [
    "#Adding an element to list\n",
    "a=[1,\"a\",3,\"c\",4]\n",
    "a.append(\"d\")\n",
    "print(a)"
   ]
  },
  {
   "cell_type": "code",
   "execution_count": 111,
   "id": "eeadab70",
   "metadata": {},
   "outputs": [
    {
     "name": "stdout",
     "output_type": "stream",
     "text": [
      "<class 'tuple'>\n"
     ]
    }
   ],
   "source": [
    "#type\n",
    "print(type(a))"
   ]
  },
  {
   "cell_type": "code",
   "execution_count": 20,
   "id": "c66eced0",
   "metadata": {},
   "outputs": [
    {
     "name": "stdout",
     "output_type": "stream",
     "text": [
      "[1, 'a', 2, 'b', 3, 'c', 4, 'd']\n"
     ]
    }
   ],
   "source": [
    "#Adding an element to list at particular index\n",
    "a.insert(2,2)\n",
    "a.insert(3,\"b\")\n",
    "print(a)"
   ]
  },
  {
   "cell_type": "code",
   "execution_count": 21,
   "id": "68cc7391",
   "metadata": {},
   "outputs": [
    {
     "name": "stdout",
     "output_type": "stream",
     "text": [
      "[1, 'a', 2, 'b', 3, 'c', 4, 'd', 5, 'e']\n"
     ]
    }
   ],
   "source": [
    "#Concatenating two list\n",
    "b=[5,\"e\"]\n",
    "a=a+b\n",
    "print(a)"
   ]
  },
  {
   "cell_type": "code",
   "execution_count": 26,
   "id": "1d9b3c41",
   "metadata": {},
   "outputs": [
    {
     "name": "stdout",
     "output_type": "stream",
     "text": [
      "['1', 'a', '2', 'b', '3', 'c', '4', 'd', '5', 'e']\n"
     ]
    }
   ],
   "source": [
    "#Convert datatype of all element of list to string\n",
    "for i in range(len(a)):\n",
    "    a[i]=str(a[i])\n",
    "print(a)"
   ]
  },
  {
   "cell_type": "code",
   "execution_count": 36,
   "id": "74f1ce5a",
   "metadata": {},
   "outputs": [
    {
     "name": "stdout",
     "output_type": "stream",
     "text": [
      "['1', '2', '3', '4', '5', 'a', 'b', 'c', 'd', 'e']\n"
     ]
    }
   ],
   "source": [
    "#Sorts a list in ascending order by default\n",
    "#sort function sorts the list and update the same list\n",
    "a.sort()\n",
    "print(a)"
   ]
  },
  {
   "cell_type": "code",
   "execution_count": 37,
   "id": "d0a8a196",
   "metadata": {
    "scrolled": true
   },
   "outputs": [
    {
     "name": "stdout",
     "output_type": "stream",
     "text": [
      "['e', 'd', 'c', 'b', 'a', '5', '4', '3', '2', '1']\n"
     ]
    }
   ],
   "source": [
    "#sorting list in descending order\n",
    "a.sort(reverse=True)\n",
    "print(a)"
   ]
  },
  {
   "cell_type": "code",
   "execution_count": 39,
   "id": "b45f38df",
   "metadata": {
    "scrolled": true
   },
   "outputs": [
    {
     "name": "stdout",
     "output_type": "stream",
     "text": [
      "['1', '2', '3', '4', '5', 'a', 'b', 'c', 'd', 'e']\n"
     ]
    }
   ],
   "source": [
    "#reversing a list\n",
    "a.reverse()\n",
    "print(a)"
   ]
  },
  {
   "cell_type": "code",
   "execution_count": 40,
   "id": "f33ce5aa",
   "metadata": {},
   "outputs": [
    {
     "name": "stdout",
     "output_type": "stream",
     "text": [
      "10\n"
     ]
    }
   ],
   "source": [
    "#prints length of list\n",
    "print(len(a))"
   ]
  },
  {
   "cell_type": "code",
   "execution_count": 50,
   "id": "cd24f0c7",
   "metadata": {},
   "outputs": [
    {
     "name": "stdout",
     "output_type": "stream",
     "text": [
      "True\n",
      "False\n",
      "False\n",
      "True\n"
     ]
    }
   ],
   "source": [
    "#Check presence of element in list\n",
    "print(\"b\" in a)\n",
    "print(\"10\" in a)\n",
    "print(\"d\" not in a)\n",
    "print(\"25\" not in a)"
   ]
  },
  {
   "cell_type": "code",
   "execution_count": 33,
   "id": "ce9cb2ed",
   "metadata": {},
   "outputs": [
    {
     "name": "stdout",
     "output_type": "stream",
     "text": [
      "[6, 5, 4]\n",
      "[4, 5, 6]\n"
     ]
    }
   ],
   "source": [
    "#sorted function sorts the list and return but not alter the same list\n",
    "c=[6,5,4]\n",
    "d=sorted(c)\n",
    "print(c)\n",
    "print(d)"
   ]
  },
  {
   "cell_type": "code",
   "execution_count": 49,
   "id": "6a33fba3",
   "metadata": {},
   "outputs": [
    {
     "ename": "TypeError",
     "evalue": "'<' not supported between instances of 'int' and 'str'",
     "output_type": "error",
     "traceback": [
      "\u001b[1;31m---------------------------------------------------------------------------\u001b[0m",
      "\u001b[1;31mTypeError\u001b[0m                                 Traceback (most recent call last)",
      "\u001b[1;32m<ipython-input-49-062d43df499d>\u001b[0m in \u001b[0;36m<module>\u001b[1;34m\u001b[0m\n\u001b[0;32m      1\u001b[0m \u001b[1;31m#List with different datatype cannot be sorted\u001b[0m\u001b[1;33m\u001b[0m\u001b[1;33m\u001b[0m\u001b[1;33m\u001b[0m\u001b[0m\n\u001b[0;32m      2\u001b[0m \u001b[0mtrial\u001b[0m\u001b[1;33m=\u001b[0m\u001b[1;33m[\u001b[0m\u001b[1;34m\"abc\"\u001b[0m\u001b[1;33m,\u001b[0m\u001b[1;36m12\u001b[0m\u001b[1;33m,\u001b[0m\u001b[1;36m34.5\u001b[0m\u001b[1;33m,\u001b[0m\u001b[1;34m\"23.5\"\u001b[0m\u001b[1;33m]\u001b[0m\u001b[1;33m\u001b[0m\u001b[1;33m\u001b[0m\u001b[0m\n\u001b[1;32m----> 3\u001b[1;33m \u001b[0mtrial\u001b[0m\u001b[1;33m.\u001b[0m\u001b[0msort\u001b[0m\u001b[1;33m(\u001b[0m\u001b[1;33m)\u001b[0m\u001b[1;33m\u001b[0m\u001b[1;33m\u001b[0m\u001b[0m\n\u001b[0m",
      "\u001b[1;31mTypeError\u001b[0m: '<' not supported between instances of 'int' and 'str'"
     ]
    }
   ],
   "source": [
    "#List with different datatype cannot be sorted\n",
    "trial=[\"abc\",12,34.5,\"23.5\"]\n",
    "trial.sort()"
   ]
  },
  {
   "cell_type": "code",
   "execution_count": 52,
   "id": "4fdc9465",
   "metadata": {},
   "outputs": [
    {
     "name": "stdout",
     "output_type": "stream",
     "text": [
      "3\n"
     ]
    }
   ],
   "source": [
    "#Finding count of element in list\n",
    "a=[1,1,1,2,3,4,5,6,7]\n",
    "print(a.count(1))"
   ]
  },
  {
   "cell_type": "code",
   "execution_count": 56,
   "id": "db97ce55",
   "metadata": {},
   "outputs": [
    {
     "name": "stdout",
     "output_type": "stream",
     "text": [
      "5\n"
     ]
    }
   ],
   "source": [
    "#Return index of element\n",
    "print(a.index(4))"
   ]
  },
  {
   "cell_type": "code",
   "execution_count": 57,
   "id": "8538ebbc",
   "metadata": {},
   "outputs": [
    {
     "data": {
      "text/plain": [
       "7"
      ]
     },
     "execution_count": 57,
     "metadata": {},
     "output_type": "execute_result"
    }
   ],
   "source": [
    "#pop used to remove element by specifying index\n",
    "a.pop(8)"
   ]
  },
  {
   "cell_type": "code",
   "execution_count": 70,
   "id": "c4190178",
   "metadata": {},
   "outputs": [
    {
     "name": "stdout",
     "output_type": "stream",
     "text": [
      "[12, 34.5, '23.5']\n"
     ]
    }
   ],
   "source": [
    "#remove is used to remove specific element\n",
    "trial=[\"abc\",12,34.5,\"23.5\"]\n",
    "trial.remove(\"abc\")\n",
    "print(trial)"
   ]
  },
  {
   "cell_type": "code",
   "execution_count": 76,
   "id": "4954b575",
   "metadata": {},
   "outputs": [
    {
     "name": "stdout",
     "output_type": "stream",
     "text": [
      "[1, 2, 3, 4]\n"
     ]
    }
   ],
   "source": [
    "#extending list\n",
    "a=[1,2]\n",
    "b=[3,4]\n",
    "a.extend(b)\n",
    "print(a)"
   ]
  },
  {
   "cell_type": "code",
   "execution_count": 81,
   "id": "c51e2a8b",
   "metadata": {},
   "outputs": [
    {
     "name": "stdout",
     "output_type": "stream",
     "text": [
      "[1, 2]\n",
      "[1, 3]\n"
     ]
    }
   ],
   "source": [
    "#list slicing\n",
    "print(a[:2])\n",
    "print(a[::2])"
   ]
  },
  {
   "cell_type": "code",
   "execution_count": 98,
   "id": "8514c75d",
   "metadata": {},
   "outputs": [
    {
     "name": "stdout",
     "output_type": "stream",
     "text": [
      "a: [1, 2, 3, 4]\n",
      "c: [1, 2, 3, 4]\n",
      "False\n"
     ]
    }
   ],
   "source": [
    "#Copying list gets shallow copy\n",
    "a=[1,2,3,4]\n",
    "c=a.copy()\n",
    "print(\"a:\",a)\n",
    "print(\"c:\",c)\n",
    "print(a is c)"
   ]
  },
  {
   "cell_type": "code",
   "execution_count": 99,
   "id": "7c1a7afc",
   "metadata": {},
   "outputs": [
    {
     "name": "stdout",
     "output_type": "stream",
     "text": [
      "a: [1, 2, 3, 4]\n",
      "c: [1, 2, 3, 4]\n",
      "True\n"
     ]
    }
   ],
   "source": [
    "#copying list with assigment operator\n",
    "a=[1,2,3,4]\n",
    "c=a\n",
    "print(\"a:\",a)\n",
    "print(\"c:\",c)\n",
    "print(a is c)"
   ]
  },
  {
   "cell_type": "markdown",
   "id": "55d8a150",
   "metadata": {},
   "source": [
    "# Tuple"
   ]
  },
  {
   "cell_type": "code",
   "execution_count": 100,
   "id": "ab874192",
   "metadata": {},
   "outputs": [
    {
     "name": "stdout",
     "output_type": "stream",
     "text": [
      "(1, 2, 3, 4, 5)\n"
     ]
    }
   ],
   "source": [
    "#Enclosed Inside paranthesis\n",
    "sample=(1,2,3,4,5)\n",
    "print(sample)"
   ]
  },
  {
   "cell_type": "code",
   "execution_count": 101,
   "id": "c0b9219f",
   "metadata": {},
   "outputs": [
    {
     "name": "stdout",
     "output_type": "stream",
     "text": [
      "(1, 1.5, True, 'Hello')\n"
     ]
    }
   ],
   "source": [
    "#Heterogeneous\n",
    "l=(1,1.5,True,\"Hello\")\n",
    "print(l)"
   ]
  },
  {
   "cell_type": "code",
   "execution_count": 103,
   "id": "788c1a41",
   "metadata": {},
   "outputs": [
    {
     "ename": "TypeError",
     "evalue": "'tuple' object does not support item assignment",
     "output_type": "error",
     "traceback": [
      "\u001b[1;31m---------------------------------------------------------------------------\u001b[0m",
      "\u001b[1;31mTypeError\u001b[0m                                 Traceback (most recent call last)",
      "\u001b[1;32m<ipython-input-103-7f70c87e3e65>\u001b[0m in \u001b[0;36m<module>\u001b[1;34m\u001b[0m\n\u001b[0;32m      1\u001b[0m \u001b[1;31m#Immutable - we couldn't modify list values after creation\u001b[0m\u001b[1;33m\u001b[0m\u001b[1;33m\u001b[0m\u001b[1;33m\u001b[0m\u001b[0m\n\u001b[1;32m----> 2\u001b[1;33m \u001b[0ml\u001b[0m\u001b[1;33m[\u001b[0m\u001b[1;36m1\u001b[0m\u001b[1;33m]\u001b[0m\u001b[1;33m=\u001b[0m\u001b[1;36m1.89\u001b[0m\u001b[1;33m\u001b[0m\u001b[1;33m\u001b[0m\u001b[0m\n\u001b[0m\u001b[0;32m      3\u001b[0m \u001b[0mprint\u001b[0m\u001b[1;33m(\u001b[0m\u001b[0ml\u001b[0m\u001b[1;33m)\u001b[0m\u001b[1;33m\u001b[0m\u001b[1;33m\u001b[0m\u001b[0m\n",
      "\u001b[1;31mTypeError\u001b[0m: 'tuple' object does not support item assignment"
     ]
    }
   ],
   "source": [
    "#Immutable - we couldn't modify list values after creation\n",
    "l[1]=1.89\n",
    "print(l)"
   ]
  },
  {
   "cell_type": "code",
   "execution_count": 105,
   "id": "42a5cc44",
   "metadata": {},
   "outputs": [
    {
     "name": "stdout",
     "output_type": "stream",
     "text": [
      "1.5\n"
     ]
    }
   ],
   "source": [
    "#Accessible through Index\n",
    "print(l[1])"
   ]
  },
  {
   "cell_type": "code",
   "execution_count": 108,
   "id": "5146fc33",
   "metadata": {},
   "outputs": [
    {
     "name": "stdout",
     "output_type": "stream",
     "text": [
      "[1, 1, 2, 2, 3, 4, 5]\n"
     ]
    }
   ],
   "source": [
    "#Allows duplicates\n",
    "lst=[1,1,2,2,3,4,5]\n",
    "print(lst)"
   ]
  },
  {
   "cell_type": "markdown",
   "id": "cc894fca",
   "metadata": {},
   "source": [
    "# Tuple functions with examples"
   ]
  },
  {
   "cell_type": "code",
   "execution_count": 113,
   "id": "40b4e5ce",
   "metadata": {},
   "outputs": [
    {
     "name": "stdout",
     "output_type": "stream",
     "text": [
      "(1, 'a', 3, 'c', 4)\n"
     ]
    }
   ],
   "source": [
    "#creating\n",
    "a=(1,\"a\",3,\"c\",4)\n",
    "print(a)"
   ]
  },
  {
   "cell_type": "code",
   "execution_count": 112,
   "id": "50e6bd66",
   "metadata": {},
   "outputs": [
    {
     "name": "stdout",
     "output_type": "stream",
     "text": [
      "<class 'tuple'>\n"
     ]
    }
   ],
   "source": [
    "#type\n",
    "print(type(a))"
   ]
  },
  {
   "cell_type": "code",
   "execution_count": 117,
   "id": "80df0611",
   "metadata": {},
   "outputs": [
    {
     "name": "stdout",
     "output_type": "stream",
     "text": [
      "[1, 4, 4.5, 5.7, 10, 13, 53]\n",
      "(4.5, 13, 53, 1, 4, 10, 5.7)\n"
     ]
    }
   ],
   "source": [
    "#sorted function only return sorted tuple but not altered in same tuple\n",
    "b=(4.5,13,53,1,4,10,5.7)\n",
    "print(sorted(b))\n",
    "print(b)"
   ]
  },
  {
   "cell_type": "code",
   "execution_count": 121,
   "id": "1944037f",
   "metadata": {},
   "outputs": [
    {
     "ename": "TypeError",
     "evalue": "'reverse' is an invalid keyword argument for print()",
     "output_type": "error",
     "traceback": [
      "\u001b[1;31m---------------------------------------------------------------------------\u001b[0m",
      "\u001b[1;31mTypeError\u001b[0m                                 Traceback (most recent call last)",
      "\u001b[1;32m<ipython-input-121-708a9d5c90c9>\u001b[0m in \u001b[0;36m<module>\u001b[1;34m\u001b[0m\n\u001b[0;32m      1\u001b[0m \u001b[1;31m#reversing a tuple\u001b[0m\u001b[1;33m\u001b[0m\u001b[1;33m\u001b[0m\u001b[1;33m\u001b[0m\u001b[0m\n\u001b[1;32m----> 2\u001b[1;33m \u001b[0mprint\u001b[0m\u001b[1;33m(\u001b[0m\u001b[0mb\u001b[0m\u001b[1;33m,\u001b[0m\u001b[0mreverse\u001b[0m\u001b[1;33m=\u001b[0m\u001b[1;32mTrue\u001b[0m\u001b[1;33m)\u001b[0m\u001b[1;33m\u001b[0m\u001b[1;33m\u001b[0m\u001b[0m\n\u001b[0m",
      "\u001b[1;31mTypeError\u001b[0m: 'reverse' is an invalid keyword argument for print()"
     ]
    }
   ],
   "source": [
    "#reversing a tuple\n",
    "print(sorted(b,reverse=True))"
   ]
  },
  {
   "cell_type": "code",
   "execution_count": 126,
   "id": "60fb08a4",
   "metadata": {},
   "outputs": [
    {
     "name": "stdout",
     "output_type": "stream",
     "text": [
      "(1, 2, 3, 1, 2, 3)\n"
     ]
    }
   ],
   "source": [
    "#repeating tuple elements\n",
    "v=(1,2,3)\n",
    "n=2\n",
    "v=v*n\n",
    "print(v)"
   ]
  },
  {
   "cell_type": "code",
   "execution_count": 127,
   "id": "16b4e395",
   "metadata": {},
   "outputs": [
    {
     "name": "stdout",
     "output_type": "stream",
     "text": [
      "(1, 2, 3, 4, 5, 6, 7, 8, 9, 0)\n"
     ]
    }
   ],
   "source": [
    "#Concatenating tuples \n",
    "set1=(1,2,3,4,5)\n",
    "set2=(6,7,8,9,0)\n",
    "all=set1+set2\n",
    "print(all)"
   ]
  },
  {
   "cell_type": "code",
   "execution_count": 133,
   "id": "3c23431a",
   "metadata": {},
   "outputs": [
    {
     "name": "stdout",
     "output_type": "stream",
     "text": [
      "True\n",
      "False\n",
      "False\n",
      "True\n"
     ]
    }
   ],
   "source": [
    "#Checking existence of element from tuple\n",
    "alphabet=(\"a\",\"b\",\"c\",\"d\",\"e\")\n",
    "print(\"a\" in alphabet)\n",
    "print(\"A\" in alphabet)\n",
    "print(\"e\" not in alphabet)\n",
    "print(\"G\" not in alphabet)"
   ]
  },
  {
   "cell_type": "code",
   "execution_count": 135,
   "id": "38192499",
   "metadata": {},
   "outputs": [
    {
     "name": "stdout",
     "output_type": "stream",
     "text": [
      "a\n",
      "b\n",
      "c\n",
      "d\n",
      "e\n"
     ]
    }
   ],
   "source": [
    "#Iterating through tuple\n",
    "for i in alphabet:\n",
    "    print(i)"
   ]
  },
  {
   "cell_type": "code",
   "execution_count": 136,
   "id": "9ad42cb0",
   "metadata": {},
   "outputs": [
    {
     "name": "stdout",
     "output_type": "stream",
     "text": [
      "5\n"
     ]
    }
   ],
   "source": [
    "#Counting no of elements in tuple\n",
    "print(len(alphabet))"
   ]
  },
  {
   "cell_type": "code",
   "execution_count": 137,
   "id": "c13dc9e8",
   "metadata": {},
   "outputs": [
    {
     "name": "stdout",
     "output_type": "stream",
     "text": [
      "e\n",
      "a\n"
     ]
    }
   ],
   "source": [
    "#Maximum and minimum value from tuple\n",
    "print(max(alphabet))\n",
    "print(min(alphabet))"
   ]
  },
  {
   "cell_type": "code",
   "execution_count": 138,
   "id": "04860993",
   "metadata": {},
   "outputs": [
    {
     "ename": "TypeError",
     "evalue": "'<' not supported between instances of 'str' and 'int'",
     "output_type": "error",
     "traceback": [
      "\u001b[1;31m---------------------------------------------------------------------------\u001b[0m",
      "\u001b[1;31mTypeError\u001b[0m                                 Traceback (most recent call last)",
      "\u001b[1;32m<ipython-input-138-fd25e3b03659>\u001b[0m in \u001b[0;36m<module>\u001b[1;34m\u001b[0m\n\u001b[0;32m      1\u001b[0m \u001b[1;31m#Min() and Max() cannot be used with mixed data type\u001b[0m\u001b[1;33m\u001b[0m\u001b[1;33m\u001b[0m\u001b[1;33m\u001b[0m\u001b[0m\n\u001b[0;32m      2\u001b[0m \u001b[0msamp\u001b[0m\u001b[1;33m=\u001b[0m\u001b[1;33m(\u001b[0m\u001b[1;36m1\u001b[0m\u001b[1;33m,\u001b[0m\u001b[1;36m1.5\u001b[0m\u001b[1;33m,\u001b[0m\u001b[1;34m\"a\"\u001b[0m\u001b[1;33m,\u001b[0m\u001b[1;34m\"Chennai\"\u001b[0m\u001b[1;33m,\u001b[0m\u001b[1;32mFalse\u001b[0m\u001b[1;33m)\u001b[0m\u001b[1;33m\u001b[0m\u001b[1;33m\u001b[0m\u001b[0m\n\u001b[1;32m----> 3\u001b[1;33m \u001b[0mmin\u001b[0m\u001b[1;33m(\u001b[0m\u001b[0msamp\u001b[0m\u001b[1;33m)\u001b[0m\u001b[1;33m\u001b[0m\u001b[1;33m\u001b[0m\u001b[0m\n\u001b[0m",
      "\u001b[1;31mTypeError\u001b[0m: '<' not supported between instances of 'str' and 'int'"
     ]
    }
   ],
   "source": [
    "#Min() and Max() cannot be used with mixed data type\n",
    "samp=(1,1.5,\"a\",\"Chennai\",False)\n",
    "min(samp)"
   ]
  },
  {
   "cell_type": "code",
   "execution_count": 150,
   "id": "42a33749",
   "metadata": {},
   "outputs": [
    {
     "name": "stdout",
     "output_type": "stream",
     "text": [
      "(1, 1.5, 'a')\n",
      "(1, 'a', False)\n",
      "('a', 'Chennai')\n"
     ]
    }
   ],
   "source": [
    "#Tuple Slicing\n",
    "print(samp[:3])\n",
    "print(samp[::2])\n",
    "print(samp[2:-1])"
   ]
  },
  {
   "cell_type": "markdown",
   "id": "61bc1e42",
   "metadata": {},
   "source": [
    "# Dictionary"
   ]
  },
  {
   "cell_type": "code",
   "execution_count": 168,
   "id": "76cc1abe",
   "metadata": {},
   "outputs": [
    {
     "name": "stdout",
     "output_type": "stream",
     "text": [
      "{'one': 'a', 'two': 'b', 'three': 'c', 'four': 'd'}\n"
     ]
    }
   ],
   "source": [
    "#Doesn't allow duplicates\n",
    "alpha={\"one\":\"a\",\"two\":\"b\",\"three\":\"c\",\"four\":\"d\",\"four\":\"d\"}\n",
    "print(alpha)"
   ]
  },
  {
   "cell_type": "code",
   "execution_count": 169,
   "id": "1b88ab28",
   "metadata": {},
   "outputs": [
    {
     "name": "stdout",
     "output_type": "stream",
     "text": [
      "{'one': 'a', 'two': 'b', 'three': 'c', 'four': 'd'}\n"
     ]
    }
   ],
   "source": [
    "#Heterogenous\n",
    "alpha={\"one\":\"a\",\"two\":\"b\",\"three\":\"c\",\"four\":\"d\",\"four\":\"d\"}\n",
    "print(alpha)"
   ]
  },
  {
   "cell_type": "code",
   "execution_count": 171,
   "id": "b1552f5f",
   "metadata": {},
   "outputs": [
    {
     "name": "stdout",
     "output_type": "stream",
     "text": [
      "{'one': 'A', 'two': 'B', 'three': 'C', 'four': 'D'}\n"
     ]
    }
   ],
   "source": [
    "#Mutable\n",
    "#Elements cannot be retrieved using index \n",
    "\n",
    "alpha[\"one\"]=\"A\"\n",
    "alpha[\"two\"]=\"B\"\n",
    "alpha[\"three\"]=\"C\"\n",
    "alpha[\"four\"]=\"D\"\n",
    "print(alpha)"
   ]
  },
  {
   "cell_type": "markdown",
   "id": "a9f748b3",
   "metadata": {},
   "source": [
    "# Other operations with dictionary"
   ]
  },
  {
   "cell_type": "code",
   "execution_count": 184,
   "id": "b6b0f0fe",
   "metadata": {},
   "outputs": [
    {
     "name": "stdout",
     "output_type": "stream",
     "text": [
      "{'apple': 100, 'Mango': 80, 'Banana': 30, 'Guava': 50, 'orange': 70}\n"
     ]
    }
   ],
   "source": [
    "#creating dictionary\n",
    "cost={\"apple\":100,\"Mango\":80,\"Banana\":30,\"Guava\":50,\"orange\":70}\n",
    "print(cost)"
   ]
  },
  {
   "cell_type": "code",
   "execution_count": 185,
   "id": "08079149",
   "metadata": {},
   "outputs": [
    {
     "name": "stdout",
     "output_type": "stream",
     "text": [
      "{'apple': 100, 'Mango': 80, 'Banana': 30, 'Guava': 50}\n"
     ]
    }
   ],
   "source": [
    "#Removing an element from dictionary\n",
    "del cost[\"orange\"]\n",
    "print(cost)"
   ]
  },
  {
   "cell_type": "code",
   "execution_count": 195,
   "id": "17bfca0f",
   "metadata": {},
   "outputs": [
    {
     "name": "stdout",
     "output_type": "stream",
     "text": [
      "{'You': 1, 'know': 2, 'New': 3, 'York': 3, ',': 2, 'you': 3, 'need': 2, 'unique': 1}\n"
     ]
    }
   ],
   "source": [
    "#Word count using dictionary\n",
    "tt=\"You know New York , you need New York , you know you need unique New York\"\n",
    "wrd_cnt={}\n",
    "for wrd in tt.split():\n",
    "    if wrd not in wrd_cnt:\n",
    "        wrd_cnt[wrd]=1\n",
    "    else:\n",
    "        wrd_cnt[wrd]+=1\n",
    "print(wrd_cnt)"
   ]
  },
  {
   "cell_type": "code",
   "execution_count": 197,
   "id": "9789ae7d",
   "metadata": {
    "scrolled": true
   },
   "outputs": [
    {
     "ename": "KeyError",
     "evalue": "'You'",
     "output_type": "error",
     "traceback": [
      "\u001b[1;31m---------------------------------------------------------------------------\u001b[0m",
      "\u001b[1;31mKeyError\u001b[0m                                  Traceback (most recent call last)",
      "\u001b[1;32m<ipython-input-197-22bd266929c4>\u001b[0m in \u001b[0;36m<module>\u001b[1;34m\u001b[0m\n\u001b[0;32m      3\u001b[0m \u001b[0mwrd_cnt\u001b[0m\u001b[1;33m=\u001b[0m\u001b[1;33m{\u001b[0m\u001b[1;33m}\u001b[0m\u001b[1;33m\u001b[0m\u001b[1;33m\u001b[0m\u001b[0m\n\u001b[0;32m      4\u001b[0m \u001b[1;32mfor\u001b[0m \u001b[0mwrd\u001b[0m \u001b[1;32min\u001b[0m \u001b[0mtt\u001b[0m\u001b[1;33m.\u001b[0m\u001b[0msplit\u001b[0m\u001b[1;33m(\u001b[0m\u001b[1;33m)\u001b[0m\u001b[1;33m:\u001b[0m\u001b[1;33m\u001b[0m\u001b[1;33m\u001b[0m\u001b[0m\n\u001b[1;32m----> 5\u001b[1;33m     \u001b[0mwrd_cnt\u001b[0m\u001b[1;33m[\u001b[0m\u001b[0mwrd\u001b[0m\u001b[1;33m]\u001b[0m\u001b[1;33m+=\u001b[0m\u001b[1;36m1\u001b[0m\u001b[1;33m\u001b[0m\u001b[1;33m\u001b[0m\u001b[0m\n\u001b[0m\u001b[0;32m      6\u001b[0m \u001b[0mprint\u001b[0m\u001b[1;33m(\u001b[0m\u001b[0mwrd_cnt\u001b[0m\u001b[1;33m)\u001b[0m\u001b[1;33m\u001b[0m\u001b[1;33m\u001b[0m\u001b[0m\n",
      "\u001b[1;31mKeyError\u001b[0m: 'You'"
     ]
    }
   ],
   "source": [
    "#Throws error since key is not initialized\n",
    "tt=\"You know New York , you need New York , you know you need unique New York\"\n",
    "wrd_cnt={}\n",
    "for wrd in tt.split():\n",
    "    wrd_cnt[wrd]+=1\n",
    "print(wrd_cnt)"
   ]
  },
  {
   "cell_type": "code",
   "execution_count": 198,
   "id": "d675fde3",
   "metadata": {},
   "outputs": [
    {
     "name": "stdout",
     "output_type": "stream",
     "text": [
      "defaultdict(<class 'int'>, {'You': 1, 'know': 2, 'New': 3, 'York': 3, ',': 2, 'you': 3, 'need': 2, 'unique': 1})\n"
     ]
    }
   ],
   "source": [
    "from collections import defaultdict\n",
    "tt=\"You know New York , you need New York , you know you need unique New York\"\n",
    "\n",
    "#we passed int()into defaultdict()\n",
    "wrd_cnt=defaultdict(int)\n",
    "for wrd in tt.split():\n",
    "    wrd_cnt[wrd]+=1\n",
    "print(wrd_cnt)"
   ]
  },
  {
   "cell_type": "code",
   "execution_count": 199,
   "id": "0191fcce",
   "metadata": {},
   "outputs": [
    {
     "name": "stdout",
     "output_type": "stream",
     "text": [
      "You 1\n",
      "know 2\n",
      "New 3\n",
      "York 3\n",
      ", 2\n",
      "you 3\n",
      "need 2\n",
      "unique 1\n"
     ]
    }
   ],
   "source": [
    "#Looping thorough dictionary\n",
    "for key,value in wrd_cnt.items():\n",
    "    print(key,value)\n",
    "    "
   ]
  },
  {
   "cell_type": "code",
   "execution_count": 207,
   "id": "cc7eec7e",
   "metadata": {},
   "outputs": [
    {
     "name": "stdout",
     "output_type": "stream",
     "text": [
      "5\n"
     ]
    }
   ],
   "source": [
    "#length of dictionary\n",
    "#creating dictionary\n",
    "cost={\"apple\":100,\"Mango\":80,\"Banana\":30,\"Guava\":50,\"orange\":70}\n",
    "print(len(cost))"
   ]
  },
  {
   "cell_type": "code",
   "execution_count": 208,
   "id": "d6cb2991",
   "metadata": {},
   "outputs": [
    {
     "name": "stdout",
     "output_type": "stream",
     "text": [
      "{'apple': 100, 'Mango': 80, 'Banana': 30, 'Guava': 50, 'orange': 70}\n"
     ]
    }
   ],
   "source": [
    "#Converting dictionary into string\n",
    "print(str(cost))"
   ]
  },
  {
   "cell_type": "code",
   "execution_count": 209,
   "id": "5613e899",
   "metadata": {},
   "outputs": [
    {
     "data": {
      "text/plain": [
       "dict"
      ]
     },
     "execution_count": 209,
     "metadata": {},
     "output_type": "execute_result"
    }
   ],
   "source": [
    "#type\n",
    "type(cost)"
   ]
  },
  {
   "cell_type": "code",
   "execution_count": 211,
   "id": "667f9d33",
   "metadata": {},
   "outputs": [
    {
     "name": "stdout",
     "output_type": "stream",
     "text": [
      "{'apple': 100, 'Mango': 80, 'Banana': 30, 'Guava': 50, 'orange': 70}\n"
     ]
    }
   ],
   "source": [
    "#Copy dictionary\n",
    "c=cost.copy()\n",
    "print(c)"
   ]
  },
  {
   "cell_type": "code",
   "execution_count": 212,
   "id": "dab43f7c",
   "metadata": {},
   "outputs": [
    {
     "name": "stdout",
     "output_type": "stream",
     "text": [
      "dict_keys(['apple', 'Mango', 'Banana', 'Guava', 'orange'])\n"
     ]
    }
   ],
   "source": [
    "#print keys of dictionary\n",
    "print(c.keys())"
   ]
  },
  {
   "cell_type": "code",
   "execution_count": 213,
   "id": "0dc0a6f4",
   "metadata": {},
   "outputs": [
    {
     "name": "stdout",
     "output_type": "stream",
     "text": [
      "dict_values([100, 80, 30, 50, 70])\n"
     ]
    }
   ],
   "source": [
    "#print values of dictionary\n",
    "print(c.values())"
   ]
  },
  {
   "cell_type": "code",
   "execution_count": 214,
   "id": "6687442e",
   "metadata": {},
   "outputs": [
    {
     "name": "stdout",
     "output_type": "stream",
     "text": [
      "dict_items([('apple', 100), ('Mango', 80), ('Banana', 30), ('Guava', 50), ('orange', 70)])\n"
     ]
    }
   ],
   "source": [
    "#return key value pair\n",
    "print(c.items())"
   ]
  },
  {
   "cell_type": "markdown",
   "id": "0acd14a6",
   "metadata": {},
   "source": [
    "# List Comprehension"
   ]
  },
  {
   "cell_type": "code",
   "execution_count": 228,
   "id": "9cd73cee",
   "metadata": {},
   "outputs": [
    {
     "name": "stdout",
     "output_type": "stream",
     "text": [
      "['Pomegranete', 'Cucumber']\n"
     ]
    }
   ],
   "source": [
    "#printing name of fruits and vegetable having more than 6 characters\n",
    "fruits_n_veg=[\"Apple\",\"Orange\",\"Pomegranete\",\"Banana\",\"Cucumber\",\"Chilli\",\"Kiwi\"]\n",
    "a=[i for i in sample if len(i)>6 ]\n",
    "print(a)"
   ]
  },
  {
   "cell_type": "code",
   "execution_count": 237,
   "id": "6f19b884",
   "metadata": {},
   "outputs": [
    {
     "name": "stdout",
     "output_type": "stream",
     "text": [
      "[100, 50, 70, 30]\n"
     ]
    }
   ],
   "source": [
    "#Using nested if\n",
    "fruit=[\"Apple\",\"Guava\",\"Orange\",\"Banana\"]\n",
    "cost=[100 if p==\"Apple\" else 50 if p==\"Guava\" else 70 if p==\"Orange\" else 30 for p in fruit]\n",
    "print(cost)"
   ]
  },
  {
   "cell_type": "code",
   "execution_count": null,
   "id": "dca6cd0f",
   "metadata": {},
   "outputs": [],
   "source": []
  }
 ],
 "metadata": {
  "kernelspec": {
   "display_name": "Python 3",
   "language": "python",
   "name": "python3"
  },
  "language_info": {
   "codemirror_mode": {
    "name": "ipython",
    "version": 3
   },
   "file_extension": ".py",
   "mimetype": "text/x-python",
   "name": "python",
   "nbconvert_exporter": "python",
   "pygments_lexer": "ipython3",
   "version": "3.8.8"
  }
 },
 "nbformat": 4,
 "nbformat_minor": 5
}
