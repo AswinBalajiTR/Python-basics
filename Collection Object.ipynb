{
 "cells": [
  {
   "cell_type": "markdown",
   "id": "d43fe8a3",
   "metadata": {},
   "source": [
    "# Indexing and Slicing"
   ]
  },
  {
   "cell_type": "code",
   "execution_count": 4,
   "id": "1c1ed891",
   "metadata": {},
   "outputs": [
    {
     "name": "stdout",
     "output_type": "stream",
     "text": [
      "I\n",
      "g\n"
     ]
    }
   ],
   "source": [
    "#Index is enclosed inside square brackets []\n",
    "#Index starts from 0 from front and -1 from back \n",
    "str_sample = \"Indexing and slicing\"\n",
    "print(str_sample[0])\n",
    "print(str_sample[-1])"
   ]
  },
  {
   "cell_type": "code",
   "execution_count": 7,
   "id": "4f9ba5f5",
   "metadata": {},
   "outputs": [
    {
     "name": "stdout",
     "output_type": "stream",
     "text": [
      "slicing\n"
     ]
    }
   ],
   "source": [
    "#Slicing a string from 13th index to end \n",
    "print(str_sample[13:])"
   ]
  },
  {
   "cell_type": "code",
   "execution_count": 8,
   "id": "b704c3ab",
   "metadata": {},
   "outputs": [
    {
     "name": "stdout",
     "output_type": "stream",
     "text": [
      "gnicils dna gnixednI\n"
     ]
    }
   ],
   "source": [
    "#Reversing a string\n",
    "print(str_sample[::-1])"
   ]
  },
  {
   "cell_type": "code",
   "execution_count": 9,
   "id": "b3b689a8",
   "metadata": {},
   "outputs": [
    {
     "name": "stdout",
     "output_type": "stream",
     "text": [
      "20\n"
     ]
    }
   ],
   "source": [
    "#Prints lenghth of the string str_sample\n",
    "print(len(str_sample))"
   ]
  },
  {
   "cell_type": "code",
   "execution_count": 18,
   "id": "d8b775a4",
   "metadata": {},
   "outputs": [
    {
     "name": "stdout",
     "output_type": "stream",
     "text": [
      "Idxn n lcn\n"
     ]
    }
   ],
   "source": [
    "#Prints whole string by skipping two steps \n",
    "print(str_sample[::2])"
   ]
  },
  {
   "cell_type": "code",
   "execution_count": 29,
   "id": "e92f5bb4",
   "metadata": {},
   "outputs": [
    {
     "name": "stdout",
     "output_type": "stream",
     "text": [
      "Indexing and slicing\n"
     ]
    }
   ],
   "source": [
    "#Original String obtained after reversing a reversed string \n",
    "print(str_sample[::-1][::-1])"
   ]
  },
  {
   "cell_type": "markdown",
   "id": "a098de72",
   "metadata": {},
   "source": [
    "# String Handling"
   ]
  },
  {
   "cell_type": "code",
   "execution_count": 44,
   "id": "1bf7d585",
   "metadata": {},
   "outputs": [
    {
     "data": {
      "text/plain": [
       "'Incredible India !'"
      ]
     },
     "execution_count": 44,
     "metadata": {},
     "output_type": "execute_result"
    }
   ],
   "source": [
    "#Replacing text in string\n",
    "txt=\"Incredible Iran !\"\n",
    "txt.replace(\"Iran\",\"India\")"
   ]
  },
  {
   "cell_type": "code",
   "execution_count": 34,
   "id": "9c8e35a5",
   "metadata": {},
   "outputs": [
    {
     "data": {
      "text/plain": [
       "'INCREDIBLE IRAN !'"
      ]
     },
     "execution_count": 34,
     "metadata": {},
     "output_type": "execute_result"
    }
   ],
   "source": [
    "#Converting to upper case\n",
    "txt.upper()"
   ]
  },
  {
   "cell_type": "code",
   "execution_count": 35,
   "id": "64565e23",
   "metadata": {},
   "outputs": [
    {
     "data": {
      "text/plain": [
       "'incredible iran !'"
      ]
     },
     "execution_count": 35,
     "metadata": {},
     "output_type": "execute_result"
    }
   ],
   "source": [
    "#Converting to lower case\n",
    "txt.lower()"
   ]
  },
  {
   "cell_type": "code",
   "execution_count": 45,
   "id": "2e806c6a",
   "metadata": {},
   "outputs": [
    {
     "data": {
      "text/plain": [
       "'iNCREDIBLE iRAN !'"
      ]
     },
     "execution_count": 45,
     "metadata": {},
     "output_type": "execute_result"
    }
   ],
   "source": [
    "#Converting to swap case\n",
    "txt.swapcase()"
   ]
  },
  {
   "cell_type": "code",
   "execution_count": 47,
   "id": "56d76efa",
   "metadata": {},
   "outputs": [
    {
     "data": {
      "text/plain": [
       "'India Indonesia'"
      ]
     },
     "execution_count": 47,
     "metadata": {},
     "output_type": "execute_result"
    }
   ],
   "source": [
    "a=\"india indonesia\"\n",
    "a.title()"
   ]
  },
  {
   "cell_type": "code",
   "execution_count": 54,
   "id": "33a6a1ef",
   "metadata": {},
   "outputs": [
    {
     "data": {
      "text/plain": [
       "'hip-po-po-ta-mus'"
      ]
     },
     "execution_count": 54,
     "metadata": {},
     "output_type": "execute_result"
    }
   ],
   "source": [
    "#joining string with a symbol\n",
    "syllables=\"hip\",\"po\",\"po\",\"ta\",\"mus\"\n",
    "sep=\"-\"\n",
    "sep.join(syllables)"
   ]
  },
  {
   "cell_type": "code",
   "execution_count": 52,
   "id": "7a76e7d6",
   "metadata": {},
   "outputs": [
    {
     "data": {
      "text/plain": [
       "'Python Session'"
      ]
     },
     "execution_count": 52,
     "metadata": {},
     "output_type": "execute_result"
    }
   ],
   "source": [
    "#stripping \n",
    "str=\"**Python Session**\"\n",
    "str.strip(\"*\")"
   ]
  }
 ],
 "metadata": {
  "kernelspec": {
   "display_name": "Python 3",
   "language": "python",
   "name": "python3"
  },
  "language_info": {
   "codemirror_mode": {
    "name": "ipython",
    "version": 3
   },
   "file_extension": ".py",
   "mimetype": "text/x-python",
   "name": "python",
   "nbconvert_exporter": "python",
   "pygments_lexer": "ipython3",
   "version": "3.8.8"
  }
 },
 "nbformat": 4,
 "nbformat_minor": 5
}
