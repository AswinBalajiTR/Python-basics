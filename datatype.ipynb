{
 "cells": [
  {
   "cell_type": "markdown",
   "id": "9db18796",
   "metadata": {},
   "source": [
    "# String Datatype (str)"
   ]
  },
  {
   "cell_type": "code",
   "execution_count": 25,
   "id": "e9c2d3af",
   "metadata": {},
   "outputs": [
    {
     "name": "stdout",
     "output_type": "stream",
     "text": [
      "Ashwin Balaji\n"
     ]
    },
    {
     "data": {
      "text/plain": [
       "str"
      ]
     },
     "execution_count": 25,
     "metadata": {},
     "output_type": "execute_result"
    }
   ],
   "source": [
    "name=\"Ashwin Balaji\"\n",
    "print(name)\n",
    "type(name)"
   ]
  },
  {
   "cell_type": "markdown",
   "id": "af9c3204",
   "metadata": {},
   "source": [
    "Strings should be enclosed inside quotes "
   ]
  },
  {
   "cell_type": "markdown",
   "id": "7f9d3834",
   "metadata": {},
   "source": [
    "# Integer Datatype (int)"
   ]
  },
  {
   "cell_type": "code",
   "execution_count": 15,
   "id": "10d2fb21",
   "metadata": {},
   "outputs": [
    {
     "name": "stdout",
     "output_type": "stream",
     "text": [
      "19\n"
     ]
    },
    {
     "data": {
      "text/plain": [
       "int"
      ]
     },
     "execution_count": 15,
     "metadata": {},
     "output_type": "execute_result"
    }
   ],
   "source": [
    "age=19\n",
    "print(age)\n",
    "type(age)"
   ]
  },
  {
   "cell_type": "markdown",
   "id": "e1ea5cad",
   "metadata": {},
   "source": [
    "# Float Datatype (float) "
   ]
  },
  {
   "cell_type": "code",
   "execution_count": 17,
   "id": "cae1bf94",
   "metadata": {},
   "outputs": [
    {
     "name": "stdout",
     "output_type": "stream",
     "text": [
      "5.4\n"
     ]
    },
    {
     "data": {
      "text/plain": [
       "float"
      ]
     },
     "execution_count": 17,
     "metadata": {},
     "output_type": "execute_result"
    }
   ],
   "source": [
    "length=5.4\n",
    "print(length)\n",
    "type(length)"
   ]
  },
  {
   "cell_type": "markdown",
   "id": "f2facf15",
   "metadata": {},
   "source": [
    "# Boolean Datatype (bool)"
   ]
  },
  {
   "cell_type": "code",
   "execution_count": 29,
   "id": "34a47ceb",
   "metadata": {},
   "outputs": [
    {
     "name": "stdout",
     "output_type": "stream",
     "text": [
      "True\n"
     ]
    },
    {
     "data": {
      "text/plain": [
       "bool"
      ]
     },
     "execution_count": 29,
     "metadata": {},
     "output_type": "execute_result"
    }
   ],
   "source": [
    "x=True\n",
    "print(x)\n",
    "type(x)"
   ]
  },
  {
   "cell_type": "markdown",
   "id": "89b03f34",
   "metadata": {},
   "source": [
    "# Examples"
   ]
  },
  {
   "cell_type": "code",
   "execution_count": 28,
   "id": "0b8395b5",
   "metadata": {},
   "outputs": [
    {
     "name": "stdout",
     "output_type": "stream",
     "text": [
      "4.5\n"
     ]
    },
    {
     "data": {
      "text/plain": [
       "str"
      ]
     },
     "execution_count": 28,
     "metadata": {},
     "output_type": "execute_result"
    }
   ],
   "source": [
    "x=\"4.5\"\n",
    "print(x)\n",
    "type(x)"
   ]
  },
  {
   "cell_type": "markdown",
   "id": "1c863fd7",
   "metadata": {},
   "source": [
    "# Implicit Conversion"
   ]
  },
  {
   "cell_type": "code",
   "execution_count": 31,
   "id": "f4e9ea80",
   "metadata": {},
   "outputs": [
    {
     "name": "stdout",
     "output_type": "stream",
     "text": [
      "100\n"
     ]
    },
    {
     "data": {
      "text/plain": [
       "int"
      ]
     },
     "execution_count": 31,
     "metadata": {},
     "output_type": "execute_result"
    }
   ],
   "source": [
    "Item_price = 20\n",
    "No_of_item = 5\n",
    "Total_price = Item_price * No_of_item\n",
    "print(Total_price)\n",
    "type(Total_price)"
   ]
  },
  {
   "cell_type": "code",
   "execution_count": 32,
   "id": "54c04421",
   "metadata": {},
   "outputs": [
    {
     "name": "stdout",
     "output_type": "stream",
     "text": [
      "104.0\n"
     ]
    },
    {
     "data": {
      "text/plain": [
       "float"
      ]
     },
     "execution_count": 32,
     "metadata": {},
     "output_type": "execute_result"
    }
   ],
   "source": [
    "Item_price = 20.8\n",
    "No_of_item = 5\n",
    "Total_price = Item_price * No_of_item\n",
    "print(Total_price)\n",
    "type(Total_price)"
   ]
  },
  {
   "cell_type": "markdown",
   "id": "d52a2ca7",
   "metadata": {},
   "source": [
    "Python interpreter converts variable type without our knowledge "
   ]
  },
  {
   "cell_type": "markdown",
   "id": "57a070d2",
   "metadata": {},
   "source": [
    "# Explicit Conversion"
   ]
  },
  {
   "cell_type": "code",
   "execution_count": 38,
   "id": "e3d53adf",
   "metadata": {},
   "outputs": [
    {
     "ename": "TypeError",
     "evalue": "unsupported operand type(s) for +: 'int' and 'str'",
     "output_type": "error",
     "traceback": [
      "\u001b[1;31m---------------------------------------------------------------------------\u001b[0m",
      "\u001b[1;31mTypeError\u001b[0m                                 Traceback (most recent call last)",
      "\u001b[1;32m<ipython-input-38-ff91e06952c8>\u001b[0m in \u001b[0;36m<module>\u001b[1;34m\u001b[0m\n\u001b[0;32m      1\u001b[0m \u001b[0mItem_price\u001b[0m \u001b[1;33m=\u001b[0m \u001b[1;36m20\u001b[0m\u001b[1;33m\u001b[0m\u001b[1;33m\u001b[0m\u001b[0m\n\u001b[0;32m      2\u001b[0m \u001b[0mtax\u001b[0m \u001b[1;33m=\u001b[0m \u001b[1;34m\"5.2\"\u001b[0m\u001b[1;33m\u001b[0m\u001b[1;33m\u001b[0m\u001b[0m\n\u001b[1;32m----> 3\u001b[1;33m \u001b[0mTotal_price\u001b[0m \u001b[1;33m=\u001b[0m \u001b[0mItem_price\u001b[0m \u001b[1;33m+\u001b[0m \u001b[0mtax\u001b[0m\u001b[1;33m\u001b[0m\u001b[1;33m\u001b[0m\u001b[0m\n\u001b[0m\u001b[0;32m      4\u001b[0m \u001b[0mprint\u001b[0m\u001b[1;33m(\u001b[0m\u001b[0mTotal_price\u001b[0m\u001b[1;33m)\u001b[0m\u001b[1;33m\u001b[0m\u001b[1;33m\u001b[0m\u001b[0m\n\u001b[0;32m      5\u001b[0m \u001b[0mtype\u001b[0m\u001b[1;33m(\u001b[0m\u001b[0mTotal_price\u001b[0m\u001b[1;33m)\u001b[0m\u001b[1;33m\u001b[0m\u001b[1;33m\u001b[0m\u001b[0m\n",
      "\u001b[1;31mTypeError\u001b[0m: unsupported operand type(s) for +: 'int' and 'str'"
     ]
    }
   ],
   "source": [
    "Item_price = 20\n",
    "tax = \"5.2\"\n",
    "Total_price = Item_price + tax\n",
    "print(Total_price)\n",
    "type(Total_price)"
   ]
  },
  {
   "cell_type": "code",
   "execution_count": 37,
   "id": "4e396ab1",
   "metadata": {},
   "outputs": [
    {
     "name": "stdout",
     "output_type": "stream",
     "text": [
      "205.2\n"
     ]
    },
    {
     "data": {
      "text/plain": [
       "str"
      ]
     },
     "execution_count": 37,
     "metadata": {},
     "output_type": "execute_result"
    }
   ],
   "source": [
    "Item_price = \"20\"\n",
    "tax = \"5.2\"\n",
    "Total_price = Item_price + tax\n",
    "print(Total_price)\n",
    "type(Total_price)"
   ]
  },
  {
   "cell_type": "markdown",
   "id": "fa34b5a9",
   "metadata": {},
   "source": [
    "User convert variable's datatype according to the problem's requirements"
   ]
  },
  {
   "cell_type": "code",
   "execution_count": 39,
   "id": "1234f2da",
   "metadata": {},
   "outputs": [
    {
     "name": "stdout",
     "output_type": "stream",
     "text": [
      "25.2\n"
     ]
    },
    {
     "data": {
      "text/plain": [
       "float"
      ]
     },
     "execution_count": 39,
     "metadata": {},
     "output_type": "execute_result"
    }
   ],
   "source": [
    "Item_price = 20\n",
    "tax = \"5.2\"\n",
    "Total_price = Item_price + float(tax)\n",
    "print(Total_price)\n",
    "type(Total_price)"
   ]
  },
  {
   "cell_type": "markdown",
   "id": "27dd3e7f",
   "metadata": {},
   "source": [
    "Here we are converting datatype of tax from string to float"
   ]
  },
  {
   "cell_type": "markdown",
   "id": "c5886310",
   "metadata": {},
   "source": [
    "# Conversion of datatype"
   ]
  },
  {
   "cell_type": "code",
   "execution_count": 53,
   "id": "3464d64d",
   "metadata": {},
   "outputs": [
    {
     "name": "stdout",
     "output_type": "stream",
     "text": [
      "5\n",
      "True\n",
      "5.0\n"
     ]
    }
   ],
   "source": [
    "x=5\n",
    "print(str(x))\n",
    "print(bool(x))\n",
    "print(float(x))"
   ]
  },
  {
   "cell_type": "markdown",
   "id": "11d67c89",
   "metadata": {},
   "source": [
    "Conversion from integer"
   ]
  },
  {
   "cell_type": "code",
   "execution_count": 66,
   "id": "29f96498",
   "metadata": {},
   "outputs": [
    {
     "name": "stdout",
     "output_type": "stream",
     "text": [
      "5.501\n",
      "True\n",
      "5\n"
     ]
    }
   ],
   "source": [
    "x=5.501\n",
    "print(str(x))\n",
    "print(bool(x))\n",
    "print(int(x))"
   ]
  },
  {
   "cell_type": "markdown",
   "id": "0ede8d7c",
   "metadata": {},
   "source": [
    "Conversion from float"
   ]
  },
  {
   "cell_type": "code",
   "execution_count": 54,
   "id": "12e6023b",
   "metadata": {},
   "outputs": [
    {
     "name": "stdout",
     "output_type": "stream",
     "text": [
      "5\n",
      "True\n",
      "5.0\n"
     ]
    }
   ],
   "source": [
    "x=\"5\"\n",
    "print(int(x))\n",
    "print(bool(x))\n",
    "print(float(x))"
   ]
  },
  {
   "cell_type": "code",
   "execution_count": 8,
   "id": "05a3e7fe",
   "metadata": {
    "scrolled": true
   },
   "outputs": [
    {
     "ename": "ValueError",
     "evalue": "invalid literal for int() with base 10: '10.2'",
     "output_type": "error",
     "traceback": [
      "\u001b[1;31m---------------------------------------------------------------------------\u001b[0m",
      "\u001b[1;31mValueError\u001b[0m                                Traceback (most recent call last)",
      "\u001b[1;32m<ipython-input-8-8a536042d462>\u001b[0m in \u001b[0;36m<module>\u001b[1;34m\u001b[0m\n\u001b[0;32m      1\u001b[0m \u001b[0mx\u001b[0m\u001b[1;33m=\u001b[0m\u001b[1;34m\"10.2\"\u001b[0m\u001b[1;33m\u001b[0m\u001b[1;33m\u001b[0m\u001b[0m\n\u001b[1;32m----> 2\u001b[1;33m \u001b[0mprint\u001b[0m\u001b[1;33m(\u001b[0m\u001b[0mint\u001b[0m\u001b[1;33m(\u001b[0m\u001b[0mx\u001b[0m\u001b[1;33m)\u001b[0m\u001b[1;33m)\u001b[0m\u001b[1;33m\u001b[0m\u001b[1;33m\u001b[0m\u001b[0m\n\u001b[0m\u001b[0;32m      3\u001b[0m \u001b[0mprint\u001b[0m\u001b[1;33m(\u001b[0m\u001b[0mbool\u001b[0m\u001b[1;33m(\u001b[0m\u001b[0mx\u001b[0m\u001b[1;33m)\u001b[0m\u001b[1;33m)\u001b[0m\u001b[1;33m\u001b[0m\u001b[1;33m\u001b[0m\u001b[0m\n\u001b[0;32m      4\u001b[0m \u001b[0mprint\u001b[0m\u001b[1;33m(\u001b[0m\u001b[0mfloat\u001b[0m\u001b[1;33m(\u001b[0m\u001b[0mx\u001b[0m\u001b[1;33m)\u001b[0m\u001b[1;33m)\u001b[0m\u001b[1;33m\u001b[0m\u001b[1;33m\u001b[0m\u001b[0m\n",
      "\u001b[1;31mValueError\u001b[0m: invalid literal for int() with base 10: '10.2'"
     ]
    }
   ],
   "source": [
    "x=\"10.2\"\n",
    "print(int(x))\n",
    "print(bool(x))\n",
    "print(float(x))"
   ]
  },
  {
   "cell_type": "code",
   "execution_count": 7,
   "id": "9578564e",
   "metadata": {},
   "outputs": [
    {
     "ename": "ValueError",
     "evalue": "invalid literal for int() with base 10: 'aa'",
     "output_type": "error",
     "traceback": [
      "\u001b[1;31m---------------------------------------------------------------------------\u001b[0m",
      "\u001b[1;31mValueError\u001b[0m                                Traceback (most recent call last)",
      "\u001b[1;32m<ipython-input-7-d073b74157cb>\u001b[0m in \u001b[0;36m<module>\u001b[1;34m\u001b[0m\n\u001b[0;32m      1\u001b[0m \u001b[0mx\u001b[0m\u001b[1;33m=\u001b[0m\u001b[1;34m\"aa\"\u001b[0m\u001b[1;33m\u001b[0m\u001b[1;33m\u001b[0m\u001b[0m\n\u001b[1;32m----> 2\u001b[1;33m \u001b[0mprint\u001b[0m\u001b[1;33m(\u001b[0m\u001b[0mint\u001b[0m\u001b[1;33m(\u001b[0m\u001b[0mx\u001b[0m\u001b[1;33m)\u001b[0m\u001b[1;33m)\u001b[0m\u001b[1;33m\u001b[0m\u001b[1;33m\u001b[0m\u001b[0m\n\u001b[0m\u001b[0;32m      3\u001b[0m \u001b[0mprint\u001b[0m\u001b[1;33m(\u001b[0m\u001b[0mbool\u001b[0m\u001b[1;33m(\u001b[0m\u001b[0mx\u001b[0m\u001b[1;33m)\u001b[0m\u001b[1;33m)\u001b[0m\u001b[1;33m\u001b[0m\u001b[1;33m\u001b[0m\u001b[0m\n\u001b[0;32m      4\u001b[0m \u001b[0mprint\u001b[0m\u001b[1;33m(\u001b[0m\u001b[0mfloat\u001b[0m\u001b[1;33m(\u001b[0m\u001b[0mx\u001b[0m\u001b[1;33m)\u001b[0m\u001b[1;33m)\u001b[0m\u001b[1;33m\u001b[0m\u001b[1;33m\u001b[0m\u001b[0m\n",
      "\u001b[1;31mValueError\u001b[0m: invalid literal for int() with base 10: 'aa'"
     ]
    }
   ],
   "source": [
    "x=\"aa\"\n",
    "print(int(x))\n",
    "print(bool(x))\n",
    "print(float(x))"
   ]
  },
  {
   "cell_type": "markdown",
   "id": "464f7409",
   "metadata": {},
   "source": [
    "Conversion from string"
   ]
  },
  {
   "cell_type": "code",
   "execution_count": 69,
   "id": "7ff7213a",
   "metadata": {},
   "outputs": [
    {
     "name": "stdout",
     "output_type": "stream",
     "text": [
      "1\n",
      "1.0\n",
      "True\n"
     ]
    }
   ],
   "source": [
    "x=True\n",
    "print(int(x))\n",
    "print(float(x))\n",
    "print(str(x))"
   ]
  },
  {
   "cell_type": "markdown",
   "id": "26b0ff05",
   "metadata": {},
   "source": [
    "Conversion from boolean"
   ]
  }
 ],
 "metadata": {
  "kernelspec": {
   "display_name": "Python 3",
   "language": "python",
   "name": "python3"
  },
  "language_info": {
   "codemirror_mode": {
    "name": "ipython",
    "version": 3
   },
   "file_extension": ".py",
   "mimetype": "text/x-python",
   "name": "python",
   "nbconvert_exporter": "python",
   "pygments_lexer": "ipython3",
   "version": "3.8.8"
  }
 },
 "nbformat": 4,
 "nbformat_minor": 5
}
