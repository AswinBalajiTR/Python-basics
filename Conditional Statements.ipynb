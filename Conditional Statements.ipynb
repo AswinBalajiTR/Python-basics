{
 "cells": [
  {
   "cell_type": "markdown",
   "id": "081c8660",
   "metadata": {},
   "source": [
    "# if else statement"
   ]
  },
  {
   "cell_type": "code",
   "execution_count": 3,
   "id": "c39af644",
   "metadata": {},
   "outputs": [
    {
     "name": "stdout",
     "output_type": "stream",
     "text": [
      "Enter a number : 25\n",
      "The give number 25 is odd\n"
     ]
    }
   ],
   "source": [
    "# Pgm to check the given number is odd number\n",
    "\n",
    "a=int(input(\"Enter a number : \"))\n",
    "if(a%2==0):\n",
    "    print(\"The given number\",a,\"is even\")\n",
    "else:\n",
    "    print(\"The give number\",a,\"is odd\")\n"
   ]
  },
  {
   "cell_type": "code",
   "execution_count": 4,
   "id": "72b5763e",
   "metadata": {},
   "outputs": [
    {
     "name": "stdout",
     "output_type": "stream",
     "text": [
      "Enter the electricity consumed in units : 370\n",
      "Your electricity charges for 370 units is Rs. 1480\n"
     ]
    }
   ],
   "source": [
    "# Pgm to calculate electricity charges\n",
    "\n",
    "unit=int(input(\"Enter the electricity consumed in units : \"))\n",
    "charges=0\n",
    "if(unit>0 and unit<101):\n",
    "    charges=unit*2\n",
    "elif(unit>100 and unit<201):\n",
    "    charges=unit*2.8\n",
    "elif(unit>200 and unit<301):\n",
    "    charges=unit*3.5\n",
    "elif(unit>300 and unit<401):\n",
    "    charges=unit*4\n",
    "elif(unit>400 and unit<501):\n",
    "    charges=unit*4.5\n",
    "else:\n",
    "    charges=unit*6\n",
    "\n",
    "print(\"Your electricity charges for\",unit,\"units is Rs.\",charges)\n"
   ]
  },
  {
   "cell_type": "markdown",
   "id": "fe78ca30",
   "metadata": {},
   "source": [
    "# Nested - if statement"
   ]
  },
  {
   "cell_type": "code",
   "execution_count": 5,
   "id": "f21f986a",
   "metadata": {},
   "outputs": [
    {
     "name": "stdout",
     "output_type": "stream",
     "text": [
      "Enter 1st number : 23\n",
      "Enter 2nd number : 45\n",
      "Enter 3rd number : 12\n",
      "45 is greatest among three numbers\n"
     ]
    }
   ],
   "source": [
    "#Greatest among 3 numbers\n",
    "\n",
    "a=int(input(\"Enter 1st number : \"))\n",
    "b=int(input(\"Enter 2nd number : \"))\n",
    "c=int(input(\"Enter 3rd number : \"))\n",
    "if(a>b):\n",
    "    if(a>c):\n",
    "        print(a,\"is greatest among three numbers\")\n",
    "    else:\n",
    "        print(c,\"is greatest among three numbers\")\n",
    "elif(b>a):\n",
    "    if(b>c):\n",
    "        print(b,\"is greatest among three numbers\")\n",
    "    else:\n",
    "        print(c,\"is greatest among three numbers\")\n",
    "else:\n",
    "    print(\"All numbers are equal\")\n",
    "        \n"
   ]
  },
  {
   "cell_type": "markdown",
   "id": "47558459",
   "metadata": {},
   "source": [
    "# Looping statements :"
   ]
  },
  {
   "cell_type": "markdown",
   "id": "20fb2ede",
   "metadata": {},
   "source": [
    "### 1) While Loop"
   ]
  },
  {
   "cell_type": "code",
   "execution_count": 9,
   "id": "985f059c",
   "metadata": {},
   "outputs": [
    {
     "name": "stdout",
     "output_type": "stream",
     "text": [
      "Enter a number : 5\n",
      "Sum of first 5 numbers are 15\n"
     ]
    }
   ],
   "source": [
    "#Pgm to find summation of first n numbers\n",
    "\n",
    "n=int(input(\"Enter a number : \"))\n",
    "a=0\n",
    "sum=0\n",
    "while(a<n+1):\n",
    "    sum+=a\n",
    "    a+=1\n",
    "print(\"Sum of first\",n,\"numbers are\",sum)"
   ]
  },
  {
   "cell_type": "code",
   "execution_count": 29,
   "id": "5bfe0989",
   "metadata": {},
   "outputs": [
    {
     "name": "stdout",
     "output_type": "stream",
     "text": [
      "Enter a number : 3\n",
      "Sum of first 3 odd numbers are 9\n"
     ]
    }
   ],
   "source": [
    "#Pgm to find summation of first n odd numbers\n",
    "\n",
    "n=int(input(\"Enter a number : \"))\n",
    "a=0\n",
    "cnt=0\n",
    "b=a+1\n",
    "sum=0\n",
    "while(a<b):\n",
    "    if(a%2 !=0):\n",
    "        sum+=a\n",
    "        cnt+=1\n",
    "    if(cnt==n):\n",
    "        b=a-2\n",
    "    a+=1\n",
    "    b=b+1\n",
    "print(\"Sum of first\",n,\"odd numbers are\",sum)"
   ]
  },
  {
   "cell_type": "code",
   "execution_count": 24,
   "id": "e4a1d470",
   "metadata": {},
   "outputs": [
    {
     "name": "stdout",
     "output_type": "stream",
     "text": [
      "Enter a number : 3\n",
      "Sum of first 3 even numbers are 12\n"
     ]
    }
   ],
   "source": [
    "#Pgm to find summation of first n even numbers\n",
    "\n",
    "n=int(input(\"Enter a number : \"))\n",
    "a=1\n",
    "cnt=0\n",
    "b=a+1\n",
    "sum=0\n",
    "while(a<b):\n",
    "    if(a%2 ==0):\n",
    "        sum+=a\n",
    "        cnt+=1\n",
    "    if(cnt==n):\n",
    "        b=a-2\n",
    "    a+=1\n",
    "    b=b+1\n",
    "print(\"Sum of first\",n,\"even numbers are\",sum)"
   ]
  },
  {
   "cell_type": "markdown",
   "id": "21fd65ef",
   "metadata": {},
   "source": [
    "### 2) For loop"
   ]
  },
  {
   "cell_type": "code",
   "execution_count": 22,
   "id": "b9a8fc1a",
   "metadata": {},
   "outputs": [
    {
     "name": "stdout",
     "output_type": "stream",
     "text": [
      "Enter a number : 5\n",
      "Sum of first 5 numbers are 15\n"
     ]
    }
   ],
   "source": [
    "n=int(input(\"Enter a number : \"))\n",
    "numbers = range(1,n+1)\n",
    "sum=0\n",
    "for i in numbers :\n",
    "    sum+=i\n",
    "print(\"Sum of first\",n,\"numbers are\",sum)"
   ]
  },
  {
   "cell_type": "markdown",
   "id": "3de084e2",
   "metadata": {},
   "source": [
    "# Getting out of a loop"
   ]
  },
  {
   "cell_type": "markdown",
   "id": "0f8a1efe",
   "metadata": {},
   "source": [
    "### 1) Break Statement"
   ]
  },
  {
   "cell_type": "code",
   "execution_count": 21,
   "id": "c9ac70cc",
   "metadata": {},
   "outputs": [
    {
     "name": "stdout",
     "output_type": "stream",
     "text": [
      "I\n",
      "n\n",
      "c\n",
      "r\n",
      "e\n",
      "d\n",
      "i\n",
      "b\n",
      "l\n",
      "e\n"
     ]
    }
   ],
   "source": [
    "a=\"Incredible-India\"\n",
    "for i in a:\n",
    "    if(i==\"-\"):\n",
    "        break\n",
    "    print(i)"
   ]
  },
  {
   "cell_type": "markdown",
   "id": "b1883882",
   "metadata": {},
   "source": [
    "### 2) Continue Statement"
   ]
  },
  {
   "cell_type": "code",
   "execution_count": 32,
   "id": "e894fe36",
   "metadata": {},
   "outputs": [
    {
     "name": "stdout",
     "output_type": "stream",
     "text": [
      "I\n",
      "n\n",
      "c\n",
      "r\n",
      "e\n",
      "d\n",
      "i\n",
      "b\n",
      "l\n",
      "e\n",
      "\t\n",
      "I\n",
      "n\n",
      "d\n",
      "i\n",
      "a\n"
     ]
    }
   ],
   "source": [
    "a=\"Incredible-India\"\n",
    "for i in a:\n",
    "    if(i==\"-\"):\n",
    "        print(\"\\t\")\n",
    "        continue\n",
    "    print(i)"
   ]
  },
  {
   "cell_type": "markdown",
   "id": "9928e239",
   "metadata": {},
   "source": [
    "# Nested for loop"
   ]
  },
  {
   "cell_type": "code",
   "execution_count": 50,
   "id": "611080cd",
   "metadata": {},
   "outputs": [
    {
     "name": "stdout",
     "output_type": "stream",
     "text": [
      "Enter no of levels :6\n",
      "1 \n",
      "\n",
      "2 2 \n",
      "\n",
      "3 3 3 \n",
      "\n",
      "4 4 4 4 \n",
      "\n",
      "5 5 5 5 5 \n",
      "\n",
      "6 6 6 6 6 6 \n",
      "\n"
     ]
    }
   ],
   "source": [
    "a=int(input('Enter no of levels :'))\n",
    "for i in range (1,a+1):\n",
    "    for j in range(1,i+1):\n",
    "        print(i,end=' ')\n",
    "    print(\"\\n\")"
   ]
  },
  {
   "cell_type": "code",
   "execution_count": 51,
   "id": "9bf61eff",
   "metadata": {},
   "outputs": [
    {
     "name": "stdout",
     "output_type": "stream",
     "text": [
      "Enter no of levels :6\n",
      "1 \n",
      "\n",
      "1 2 \n",
      "\n",
      "1 2 3 \n",
      "\n",
      "1 2 3 4 \n",
      "\n",
      "1 2 3 4 5 \n",
      "\n",
      "1 2 3 4 5 6 \n",
      "\n"
     ]
    }
   ],
   "source": [
    "a=int(input('Enter no of levels :'))\n",
    "for i in range (1,a+1):\n",
    "    for j in range(1,i+1):\n",
    "        print(j,end=' ')\n",
    "    print(\"\\n\")"
   ]
  },
  {
   "cell_type": "code",
   "execution_count": null,
   "id": "5df5e24e",
   "metadata": {},
   "outputs": [],
   "source": []
  }
 ],
 "metadata": {
  "kernelspec": {
   "display_name": "Python 3",
   "language": "python",
   "name": "python3"
  },
  "language_info": {
   "codemirror_mode": {
    "name": "ipython",
    "version": 3
   },
   "file_extension": ".py",
   "mimetype": "text/x-python",
   "name": "python",
   "nbconvert_exporter": "python",
   "pygments_lexer": "ipython3",
   "version": "3.8.8"
  }
 },
 "nbformat": 4,
 "nbformat_minor": 5
}
