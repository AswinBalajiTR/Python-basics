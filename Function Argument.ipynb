{
 "cells": [
  {
   "cell_type": "markdown",
   "id": "b05bbd5f",
   "metadata": {},
   "source": [
    "# Creating Function"
   ]
  },
  {
   "cell_type": "code",
   "execution_count": 6,
   "id": "a4df20ce",
   "metadata": {},
   "outputs": [
    {
     "name": "stdout",
     "output_type": "stream",
     "text": [
      "6\n"
     ]
    }
   ],
   "source": [
    "#Use def keyword to define a function , function name follwed by colon\n",
    "def sum(a,b):\n",
    "    print(a+b)\n",
    "    \n",
    "#Function call\n",
    "sum(2,4)"
   ]
  },
  {
   "cell_type": "code",
   "execution_count": 5,
   "id": "95e0ceee",
   "metadata": {},
   "outputs": [
    {
     "name": "stdout",
     "output_type": "stream",
     "text": [
      "6\n"
     ]
    }
   ],
   "source": [
    "#return keyword use to return result\n",
    "def sum(a,b):\n",
    "    return a+b\n",
    "\n",
    "#Function Call\n",
    "print(sum(2,4))"
   ]
  },
  {
   "cell_type": "markdown",
   "id": "e5158ec3",
   "metadata": {},
   "source": [
    "# Function Arguments"
   ]
  },
  {
   "cell_type": "markdown",
   "id": "1ba19540",
   "metadata": {},
   "source": [
    "### 1) Required Arguments"
   ]
  },
  {
   "cell_type": "code",
   "execution_count": 7,
   "id": "77575868",
   "metadata": {},
   "outputs": [
    {
     "name": "stdout",
     "output_type": "stream",
     "text": [
      "a: 1\n",
      "b: 2\n"
     ]
    }
   ],
   "source": [
    "#Arguments should be passed in correct position\n",
    "def sample(a,b):\n",
    "    print(\"a:\",a)\n",
    "    print(\"b:\",b)\n",
    "sample(1,2)\n",
    "    "
   ]
  },
  {
   "cell_type": "code",
   "execution_count": 8,
   "id": "afa6c4f6",
   "metadata": {},
   "outputs": [
    {
     "name": "stdout",
     "output_type": "stream",
     "text": [
      "a: 2\n",
      "b: 1\n"
     ]
    }
   ],
   "source": [
    "#Arguments should be passed in correct position\n",
    "def sample(a,b):\n",
    "    print(\"a:\",a)\n",
    "    print(\"b:\",b)\n",
    "sample(2,1)"
   ]
  },
  {
   "cell_type": "markdown",
   "id": "1cb94c77",
   "metadata": {},
   "source": [
    "### 2) Keyword Arguments"
   ]
  },
  {
   "cell_type": "code",
   "execution_count": 23,
   "id": "a997fe4e",
   "metadata": {},
   "outputs": [
    {
     "name": "stdout",
     "output_type": "stream",
     "text": [
      "n1 : James\n",
      "n2 : Bond \n",
      "\n",
      "n1 : Jack\n",
      "n2 : Sparrow \n",
      "\n"
     ]
    }
   ],
   "source": [
    "#Values to function can be passed at any position \n",
    "def samp(n1,n2):\n",
    "    print(\"n1 :\",n1)\n",
    "    print(\"n2 :\",n2,\"\\n\")\n",
    "    \n",
    "samp(n2=\"Bond\",n1=\"James\")\n",
    "samp(n1=\"Jack\",n2=\"Sparrow\")"
   ]
  },
  {
   "cell_type": "markdown",
   "id": "6118651a",
   "metadata": {},
   "source": [
    "### 3) Default Arguments"
   ]
  },
  {
   "cell_type": "code",
   "execution_count": 26,
   "id": "fe4c9bd2",
   "metadata": {},
   "outputs": [
    {
     "name": "stdout",
     "output_type": "stream",
     "text": [
      "Name : John\n",
      "College : CIT \n",
      "\n",
      "Name : Vijay\n",
      "College : MIT \n",
      "\n"
     ]
    }
   ],
   "source": [
    "#Uses default values even if values not passed on function call\n",
    "def details(name,college=\"CIT\"):\n",
    "    print(\"Name :\",name)\n",
    "    print(\"College :\",college,\"\\n\")\n",
    "    \n",
    "details(\"John\")\n",
    "details(\"Vijay\",\"MIT\")"
   ]
  },
  {
   "cell_type": "markdown",
   "id": "e53a552d",
   "metadata": {},
   "source": [
    "### 4) Variable length arguments"
   ]
  },
  {
   "cell_type": "code",
   "execution_count": 27,
   "id": "8d2727b0",
   "metadata": {},
   "outputs": [
    {
     "name": "stdout",
     "output_type": "stream",
     "text": [
      "Sum : 6\n",
      "Sum : 20\n"
     ]
    }
   ],
   "source": [
    "#Uses *args when we dont know no of arguments to pass\n",
    "def sum(*num):\n",
    "    add=0\n",
    "    for i in num:\n",
    "        add+=i;\n",
    "    print(\"Sum :\",add)\n",
    "sum(1,2,3)\n",
    "sum(2,4,6,8)"
   ]
  },
  {
   "cell_type": "markdown",
   "id": "e870b058",
   "metadata": {},
   "source": [
    "### 5) Variable length keyword arguments"
   ]
  },
  {
   "cell_type": "code",
   "execution_count": 31,
   "id": "3b53bc25",
   "metadata": {},
   "outputs": [
    {
     "name": "stdout",
     "output_type": "stream",
     "text": [
      "Name : Kumar\n",
      "College : CIT\n",
      "\n",
      "\n",
      "Name : Saran\n",
      "College : MIT\n",
      "Group : CSE\n",
      "\n",
      "\n"
     ]
    }
   ],
   "source": [
    "# **kwargs used pass keyworded variable length arguments to funtion\n",
    "def bio(**student):\n",
    "    for i,j in student.items():\n",
    "        print(i,\":\",j)\n",
    "    print(\"\\n\")\n",
    "bio(Name=\"Kumar\",College=\"CIT\")\n",
    "bio(Name=\"Saran\",College=\"MIT\",Group=\"CSE\")"
   ]
  }
 ],
 "metadata": {
  "kernelspec": {
   "display_name": "Python 3",
   "language": "python",
   "name": "python3"
  },
  "language_info": {
   "codemirror_mode": {
    "name": "ipython",
    "version": 3
   },
   "file_extension": ".py",
   "mimetype": "text/x-python",
   "name": "python",
   "nbconvert_exporter": "python",
   "pygments_lexer": "ipython3",
   "version": "3.8.8"
  }
 },
 "nbformat": 4,
 "nbformat_minor": 5
}
