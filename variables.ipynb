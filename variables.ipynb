{
 "cells": [
  {
   "cell_type": "markdown",
   "id": "8fdddcd5",
   "metadata": {},
   "source": [
    "# Invalid Declaration of variables"
   ]
  },
  {
   "cell_type": "code",
   "execution_count": 11,
   "id": "b4120100",
   "metadata": {
    "scrolled": true
   },
   "outputs": [
    {
     "ename": "SyntaxError",
     "evalue": "invalid syntax (<ipython-input-11-6e02426783a3>, line 1)",
     "output_type": "error",
     "traceback": [
      "\u001b[1;36m  File \u001b[1;32m\"<ipython-input-11-6e02426783a3>\"\u001b[1;36m, line \u001b[1;32m1\u001b[0m\n\u001b[1;33m    4sample_list=[1,2,3,4]\u001b[0m\n\u001b[1;37m     ^\u001b[0m\n\u001b[1;31mSyntaxError\u001b[0m\u001b[1;31m:\u001b[0m invalid syntax\n"
     ]
    }
   ],
   "source": [
    "4sample_list=[1,2,3,4]"
   ]
  },
  {
   "cell_type": "markdown",
   "id": "5e62b6c5",
   "metadata": {},
   "source": [
    "Variable shouldn't start with number"
   ]
  },
  {
   "cell_type": "code",
   "execution_count": 28,
   "id": "6d521804",
   "metadata": {
    "scrolled": true
   },
   "outputs": [
    {
     "ename": "SyntaxError",
     "evalue": "invalid syntax (<ipython-input-28-3b671b16be70>, line 1)",
     "output_type": "error",
     "traceback": [
      "\u001b[1;36m  File \u001b[1;32m\"<ipython-input-28-3b671b16be70>\"\u001b[1;36m, line \u001b[1;32m1\u001b[0m\n\u001b[1;33m    @sample_list=[1,2,3,4,]\u001b[0m\n\u001b[1;37m                ^\u001b[0m\n\u001b[1;31mSyntaxError\u001b[0m\u001b[1;31m:\u001b[0m invalid syntax\n"
     ]
    }
   ],
   "source": [
    "@sample_list=[1,2,3,4,]"
   ]
  },
  {
   "cell_type": "markdown",
   "id": "6d33c842",
   "metadata": {},
   "source": [
    "Varible shouldn't start with special characters other than underscore"
   ]
  },
  {
   "cell_type": "code",
   "execution_count": 21,
   "id": "f7e17d72",
   "metadata": {},
   "outputs": [
    {
     "ename": "SyntaxError",
     "evalue": "cannot assign to operator (<ipython-input-21-6eefd8224efd>, line 1)",
     "output_type": "error",
     "traceback": [
      "\u001b[1;36m  File \u001b[1;32m\"<ipython-input-21-6eefd8224efd>\"\u001b[1;36m, line \u001b[1;32m1\u001b[0m\n\u001b[1;33m    s@mple_list=[1,2,3,4]\u001b[0m\n\u001b[1;37m    ^\u001b[0m\n\u001b[1;31mSyntaxError\u001b[0m\u001b[1;31m:\u001b[0m cannot assign to operator\n"
     ]
    }
   ],
   "source": [
    "s@mple_list=[1,2,3,4]"
   ]
  },
  {
   "cell_type": "markdown",
   "id": "9cc05ed4",
   "metadata": {},
   "source": [
    "Varible shouldn't have special characters other than underscore"
   ]
  },
  {
   "cell_type": "code",
   "execution_count": 22,
   "id": "35e6f3cf",
   "metadata": {},
   "outputs": [
    {
     "ename": "SyntaxError",
     "evalue": "cannot assign to operator (<ipython-input-22-b4823ac139c3>, line 1)",
     "output_type": "error",
     "traceback": [
      "\u001b[1;36m  File \u001b[1;32m\"<ipython-input-22-b4823ac139c3>\"\u001b[1;36m, line \u001b[1;32m1\u001b[0m\n\u001b[1;33m    sample-list=[1,2,3,4]\u001b[0m\n\u001b[1;37m    ^\u001b[0m\n\u001b[1;31mSyntaxError\u001b[0m\u001b[1;31m:\u001b[0m cannot assign to operator\n"
     ]
    }
   ],
   "source": [
    "sample-list=[1,2,3,4]"
   ]
  },
  {
   "cell_type": "markdown",
   "id": "1aa7c443",
   "metadata": {},
   "source": [
    "Varible shouldn't have operator symbols in between"
   ]
  },
  {
   "cell_type": "markdown",
   "id": "3db92037",
   "metadata": {},
   "source": [
    "# Valid Declaration of variables"
   ]
  },
  {
   "cell_type": "markdown",
   "id": "fa793438",
   "metadata": {},
   "source": [
    "s4ample_list=[1,2,3,4]"
   ]
  },
  {
   "cell_type": "markdown",
   "id": "601f54a1",
   "metadata": {},
   "source": [
    "Varible can have a number in between "
   ]
  },
  {
   "cell_type": "code",
   "execution_count": 6,
   "id": "8a418446",
   "metadata": {},
   "outputs": [],
   "source": [
    "sample_list=[1,2,3,4]"
   ]
  },
  {
   "cell_type": "markdown",
   "id": "f156ccfa",
   "metadata": {},
   "source": [
    "Varible can have underscore anywhere"
   ]
  },
  {
   "cell_type": "code",
   "execution_count": 24,
   "id": "d0e3cd41",
   "metadata": {},
   "outputs": [],
   "source": [
    "Sample_list=[1,2,3,4]"
   ]
  },
  {
   "cell_type": "markdown",
   "id": "dafca0a3",
   "metadata": {},
   "source": [
    "Varible can start with alphabets A-z or a-z"
   ]
  },
  {
   "cell_type": "code",
   "execution_count": 26,
   "id": "227b6bf4",
   "metadata": {},
   "outputs": [],
   "source": [
    "_samplelist=[1,2,3,4]"
   ]
  },
  {
   "cell_type": "markdown",
   "id": "99ae26cd",
   "metadata": {},
   "source": [
    "Varible can start with an underscore "
   ]
  },
  {
   "cell_type": "markdown",
   "id": "df47b034",
   "metadata": {},
   "source": [
    "# Assinging the vales to varible"
   ]
  },
  {
   "cell_type": "code",
   "execution_count": 32,
   "id": "ffe7adb5",
   "metadata": {},
   "outputs": [
    {
     "name": "stdout",
     "output_type": "stream",
     "text": [
      "5\n"
     ]
    }
   ],
   "source": [
    "x=4+5\n",
    "x=2+3\n",
    "print(x)"
   ]
  },
  {
   "cell_type": "code",
   "execution_count": 37,
   "id": "f6c25d1d",
   "metadata": {},
   "outputs": [
    {
     "data": {
      "text/plain": [
       "5"
      ]
     },
     "execution_count": 37,
     "metadata": {},
     "output_type": "execute_result"
    }
   ],
   "source": [
    "x=4+5\n",
    "y=2+3\n",
    "x\n",
    "y"
   ]
  },
  {
   "cell_type": "code",
   "execution_count": 38,
   "id": "b91827f5",
   "metadata": {},
   "outputs": [
    {
     "data": {
      "text/plain": [
       "(9, 5)"
      ]
     },
     "execution_count": 38,
     "metadata": {},
     "output_type": "execute_result"
    }
   ],
   "source": [
    "x,y"
   ]
  },
  {
   "cell_type": "code",
   "execution_count": 39,
   "id": "11e7a923",
   "metadata": {},
   "outputs": [
    {
     "data": {
      "text/plain": [
       "9"
      ]
     },
     "execution_count": 39,
     "metadata": {},
     "output_type": "execute_result"
    }
   ],
   "source": [
    "x=4+5\n",
    "y=x\n",
    "y"
   ]
  },
  {
   "cell_type": "code",
   "execution_count": 41,
   "id": "41bf2679",
   "metadata": {},
   "outputs": [
    {
     "data": {
      "text/plain": [
       "0"
      ]
     },
     "execution_count": 41,
     "metadata": {},
     "output_type": "execute_result"
    }
   ],
   "source": [
    "x=y=0\n",
    "x\n",
    "y"
   ]
  },
  {
   "cell_type": "code",
   "execution_count": 42,
   "id": "a587abc4",
   "metadata": {},
   "outputs": [
    {
     "data": {
      "text/plain": [
       "int"
      ]
     },
     "execution_count": 42,
     "metadata": {},
     "output_type": "execute_result"
    }
   ],
   "source": [
    "type(x)"
   ]
  },
  {
   "cell_type": "markdown",
   "id": "43e9fbf7",
   "metadata": {},
   "source": [
    "#Getting type of variable"
   ]
  },
  {
   "cell_type": "code",
   "execution_count": 44,
   "id": "1e879380",
   "metadata": {},
   "outputs": [
    {
     "name": "stdout",
     "output_type": "stream",
     "text": [
      "10\n",
      "7\n",
      "4\n"
     ]
    }
   ],
   "source": [
    "x,y,z=10,7,4\n",
    "print(x)\n",
    "print(y)\n",
    "print(z)"
   ]
  }
 ],
 "metadata": {
  "kernelspec": {
   "display_name": "Python 3",
   "language": "python",
   "name": "python3"
  },
  "language_info": {
   "codemirror_mode": {
    "name": "ipython",
    "version": 3
   },
   "file_extension": ".py",
   "mimetype": "text/x-python",
   "name": "python",
   "nbconvert_exporter": "python",
   "pygments_lexer": "ipython3",
   "version": "3.8.8"
  }
 },
 "nbformat": 4,
 "nbformat_minor": 5
}
