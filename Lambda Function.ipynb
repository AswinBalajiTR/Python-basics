{
 "cells": [
  {
   "cell_type": "markdown",
   "id": "1abbba9d",
   "metadata": {},
   "source": [
    "# Lambda Function :"
   ]
  },
  {
   "cell_type": "code",
   "execution_count": 1,
   "id": "e0220906",
   "metadata": {},
   "outputs": [],
   "source": [
    "#Lambda functions are anonymous\n",
    "#They do not have name\n",
    "#Simple one line function\n",
    "#defined using \"lambda\" keyword\n",
    "#no 'def' or 'return' keyword is used"
   ]
  },
  {
   "cell_type": "code",
   "execution_count": 7,
   "id": "6d775a6a",
   "metadata": {},
   "outputs": [
    {
     "name": "stdout",
     "output_type": "stream",
     "text": [
      "Greatest : 2 \n",
      "\n",
      "Greatest : 9 \n",
      "\n"
     ]
    }
   ],
   "source": [
    "#finding greater number\n",
    "greatest=lambda a,b:a if a>b else b\n",
    "print(\"Greatest :\",greatest(1,2),\"\\n\")\n",
    "print(\"Greatest :\",greatest(9,-53),\"\\n\")"
   ]
  },
  {
   "cell_type": "code",
   "execution_count": 12,
   "id": "c73418b8",
   "metadata": {},
   "outputs": [
    {
     "name": "stdout",
     "output_type": "stream",
     "text": [
      "[1, 4, 9, 16, 25, 36, 49, 64, 81, 100]\n"
     ]
    }
   ],
   "source": [
    "#Lambda with map\n",
    "num=list(range(1,11))\n",
    "sequence1=list(map(lambda x:x**2,num))\n",
    "print(sequence1)"
   ]
  },
  {
   "cell_type": "code",
   "execution_count": 13,
   "id": "e5204ce5",
   "metadata": {},
   "outputs": [
    {
     "name": "stdout",
     "output_type": "stream",
     "text": [
      "[2, 4, 6, 8, 10]\n"
     ]
    }
   ],
   "source": [
    "#Lambda with filter\n",
    "sequence2=list(filter(lambda x:x%2==0,num))\n",
    "print(sequence2)"
   ]
  },
  {
   "cell_type": "code",
   "execution_count": 19,
   "id": "b518a1fd",
   "metadata": {},
   "outputs": [
    {
     "name": "stdout",
     "output_type": "stream",
     "text": [
      "120\n"
     ]
    }
   ],
   "source": [
    "#lambda with reduce\n",
    "from functools import reduce\n",
    "num_list=list(range(1,6))\n",
    "sequence3=reduce(lambda x,y: x*y,num_list)\n",
    "print(sequence3)"
   ]
  },
  {
   "cell_type": "code",
   "execution_count": null,
   "id": "39ea7f4c",
   "metadata": {},
   "outputs": [],
   "source": []
  }
 ],
 "metadata": {
  "kernelspec": {
   "display_name": "Python 3",
   "language": "python",
   "name": "python3"
  },
  "language_info": {
   "codemirror_mode": {
    "name": "ipython",
    "version": 3
   },
   "file_extension": ".py",
   "mimetype": "text/x-python",
   "name": "python",
   "nbconvert_exporter": "python",
   "pygments_lexer": "ipython3",
   "version": "3.8.8"
  }
 },
 "nbformat": 4,
 "nbformat_minor": 5
}
