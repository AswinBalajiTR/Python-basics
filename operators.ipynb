{
 "cells": [
  {
   "cell_type": "markdown",
   "id": "1e2f8f03",
   "metadata": {},
   "source": [
    "## Addition"
   ]
  },
  {
   "cell_type": "code",
   "execution_count": null,
   "id": "a0863f59",
   "metadata": {},
   "outputs": [],
   "source": [
    "x=100\n",
    "y=200.5\n",
    "z=x+y\n",
    "print(z)"
   ]
  },
  {
   "cell_type": "markdown",
   "id": "39ba2faf",
   "metadata": {},
   "source": [
    "## Substraction"
   ]
  },
  {
   "cell_type": "code",
   "execution_count": null,
   "id": "8215a1f7",
   "metadata": {},
   "outputs": [],
   "source": [
    "x=500\n",
    "y=200\n",
    "z=x-y\n",
    "print(z)"
   ]
  },
  {
   "cell_type": "markdown",
   "id": "1997e2a0",
   "metadata": {},
   "source": [
    "## Multiplication"
   ]
  },
  {
   "cell_type": "code",
   "execution_count": null,
   "id": "b2827e7b",
   "metadata": {},
   "outputs": [],
   "source": [
    "x=500\n",
    "y=2\n",
    "z=x*y\n",
    "print(z)"
   ]
  },
  {
   "cell_type": "markdown",
   "id": "881938e2",
   "metadata": {},
   "source": [
    "## Division"
   ]
  },
  {
   "cell_type": "code",
   "execution_count": null,
   "id": "b4a2c051",
   "metadata": {},
   "outputs": [],
   "source": [
    "x=505\n",
    "y=2\n",
    "z=x/y\n",
    "print(z)"
   ]
  },
  {
   "cell_type": "markdown",
   "id": "5eadd105",
   "metadata": {},
   "source": [
    "## Floor Division"
   ]
  },
  {
   "cell_type": "markdown",
   "id": "5faffe72",
   "metadata": {},
   "source": [
    "Note : returns quotient"
   ]
  },
  {
   "cell_type": "code",
   "execution_count": null,
   "id": "20e1bebc",
   "metadata": {},
   "outputs": [],
   "source": [
    "x=505\n",
    "y=2\n",
    "z=x//y\n",
    "print(z)"
   ]
  },
  {
   "cell_type": "markdown",
   "id": "69d0c58d",
   "metadata": {},
   "source": [
    "## Modulo Division"
   ]
  },
  {
   "cell_type": "markdown",
   "id": "35947ca5",
   "metadata": {},
   "source": [
    "Note : returns remainder"
   ]
  },
  {
   "cell_type": "code",
   "execution_count": null,
   "id": "60983e20",
   "metadata": {},
   "outputs": [],
   "source": [
    "x=505\n",
    "y=2\n",
    "z=x%y\n",
    "print(z)"
   ]
  },
  {
   "cell_type": "markdown",
   "id": "3d145ba0",
   "metadata": {},
   "source": [
    "## Exponential"
   ]
  },
  {
   "cell_type": "code",
   "execution_count": null,
   "id": "98797b28",
   "metadata": {},
   "outputs": [],
   "source": [
    "x=5\n",
    "y=2\n",
    "z=x**y\n",
    "print(z)"
   ]
  },
  {
   "cell_type": "markdown",
   "id": "5b0a6672",
   "metadata": {},
   "source": [
    "## Runtime variable assignment with input from user"
   ]
  },
  {
   "cell_type": "markdown",
   "id": "fe63756b",
   "metadata": {},
   "source": [
    "Getting input from user using input() function"
   ]
  },
  {
   "cell_type": "code",
   "execution_count": null,
   "id": "1e5f58af",
   "metadata": {},
   "outputs": [],
   "source": [
    "name=input(\"Enter your name : \")\n",
    "print(\"Hello \",name,\" !!\")"
   ]
  },
  {
   "cell_type": "code",
   "execution_count": null,
   "id": "957d05be",
   "metadata": {},
   "outputs": [],
   "source": [
    "price=int(input(\"Enter price of the item :\"))\n",
    "quantity=int(input(\"Enter quantity : \"))\n",
    "cost=price*quantity\n",
    "print(\"The total cost of the item is \",cost)"
   ]
  },
  {
   "cell_type": "code",
   "execution_count": 1,
   "id": "f089c47e",
   "metadata": {},
   "outputs": [
    {
     "name": "stdout",
     "output_type": "stream",
     "text": [
      "Enter price of the item :150\n",
      "Enter quantity : 32\n",
      "The total cost of 32 item is  4800\n"
     ]
    }
   ],
   "source": [
    "price=int(input(\"Enter price of the item :\"))\n",
    "quantity=int(input(\"Enter quantity : \"))\n",
    "cost=price*quantity\n",
    "print(\"The total cost of\",quantity,\"item is \",cost)"
   ]
  },
  {
   "cell_type": "markdown",
   "id": "cc892156",
   "metadata": {},
   "source": [
    "# Comparison Operator"
   ]
  },
  {
   "cell_type": "code",
   "execution_count": 3,
   "id": "f617e40e",
   "metadata": {},
   "outputs": [
    {
     "data": {
      "text/plain": [
       "False"
      ]
     },
     "execution_count": 3,
     "metadata": {},
     "output_type": "execute_result"
    }
   ],
   "source": [
    "a=3\n",
    "b=5\n",
    "a>5"
   ]
  },
  {
   "cell_type": "code",
   "execution_count": 4,
   "id": "70b260fa",
   "metadata": {},
   "outputs": [
    {
     "data": {
      "text/plain": [
       "True"
      ]
     },
     "execution_count": 4,
     "metadata": {},
     "output_type": "execute_result"
    }
   ],
   "source": [
    "a<b"
   ]
  },
  {
   "cell_type": "code",
   "execution_count": 5,
   "id": "eceb2a60",
   "metadata": {},
   "outputs": [
    {
     "data": {
      "text/plain": [
       "False"
      ]
     },
     "execution_count": 5,
     "metadata": {},
     "output_type": "execute_result"
    }
   ],
   "source": [
    "a==b"
   ]
  },
  {
   "cell_type": "code",
   "execution_count": 6,
   "id": "d47d9ef6",
   "metadata": {},
   "outputs": [
    {
     "data": {
      "text/plain": [
       "False"
      ]
     },
     "execution_count": 6,
     "metadata": {},
     "output_type": "execute_result"
    }
   ],
   "source": [
    "a>=b"
   ]
  },
  {
   "cell_type": "code",
   "execution_count": 7,
   "id": "039f5fc5",
   "metadata": {},
   "outputs": [
    {
     "data": {
      "text/plain": [
       "True"
      ]
     },
     "execution_count": 7,
     "metadata": {},
     "output_type": "execute_result"
    }
   ],
   "source": [
    "a<=b"
   ]
  },
  {
   "cell_type": "code",
   "execution_count": 8,
   "id": "0b22f162",
   "metadata": {},
   "outputs": [
    {
     "data": {
      "text/plain": [
       "False"
      ]
     },
     "execution_count": 8,
     "metadata": {},
     "output_type": "execute_result"
    }
   ],
   "source": [
    "a>b"
   ]
  },
  {
   "cell_type": "code",
   "execution_count": 9,
   "id": "546db55f",
   "metadata": {},
   "outputs": [
    {
     "data": {
      "text/plain": [
       "True"
      ]
     },
     "execution_count": 9,
     "metadata": {},
     "output_type": "execute_result"
    }
   ],
   "source": [
    "a!=b"
   ]
  },
  {
   "cell_type": "markdown",
   "id": "27092971",
   "metadata": {},
   "source": [
    "# Logical Operator"
   ]
  },
  {
   "cell_type": "code",
   "execution_count": 82,
   "id": "d7457dc5",
   "metadata": {},
   "outputs": [
    {
     "name": "stdout",
     "output_type": "stream",
     "text": [
      "True\n",
      "False\n",
      "True\n",
      "False\n",
      "False\n",
      "True\n",
      "False\n",
      "True\n"
     ]
    }
   ],
   "source": [
    "a=20\n",
    "b=20\n",
    "c=10\n",
    "\n",
    "print(a==b and a>c)\n",
    "print(a==b and a>b)\n",
    "print(a==c or a>c)\n",
    "print(a==c or a>b)\n",
    "print(not c)\n",
    "print(not a==c)\n",
    "print(not a==b)\n",
    "print(not a>24)"
   ]
  },
  {
   "cell_type": "markdown",
   "id": "589b4912",
   "metadata": {},
   "source": [
    "# Membership Operator"
   ]
  },
  {
   "cell_type": "code",
   "execution_count": 76,
   "id": "4addf43b",
   "metadata": {},
   "outputs": [
    {
     "name": "stdout",
     "output_type": "stream",
     "text": [
      "True\n",
      "True\n",
      "False\n"
     ]
    }
   ],
   "source": [
    "str=\"Chennai-600092\"\n",
    "print(\"i-60\" in str)\n",
    "print(\"Chennai\" in str)\n",
    "print(\"chennai\" in str)"
   ]
  },
  {
   "cell_type": "code",
   "execution_count": 83,
   "id": "8063eabe",
   "metadata": {},
   "outputs": [
    {
     "name": "stdout",
     "output_type": "stream",
     "text": [
      "False\n",
      "False\n",
      "True\n"
     ]
    }
   ],
   "source": [
    "print(\"i-60\" not in str)\n",
    "print(\"Chennai\" not in str)\n",
    "print(\"chennai\" not in str)"
   ]
  },
  {
   "cell_type": "markdown",
   "id": "5deb98a8",
   "metadata": {},
   "source": [
    "# Bitwise operator"
   ]
  },
  {
   "cell_type": "code",
   "execution_count": 97,
   "id": "b0b01077",
   "metadata": {},
   "outputs": [
    {
     "name": "stdout",
     "output_type": "stream",
     "text": [
      "False\n"
     ]
    }
   ],
   "source": [
    "a=200\n",
    "b=20\n",
    "c=10\n",
    "\n",
    "print(a>b & c>20)"
   ]
  },
  {
   "cell_type": "code",
   "execution_count": 98,
   "id": "e1ed1686",
   "metadata": {},
   "outputs": [
    {
     "name": "stdout",
     "output_type": "stream",
     "text": [
      "True\n"
     ]
    }
   ],
   "source": [
    "print(a>b | c>20)"
   ]
  },
  {
   "cell_type": "markdown",
   "id": "3cc61098",
   "metadata": {},
   "source": [
    "# Assignment Operators"
   ]
  },
  {
   "cell_type": "code",
   "execution_count": 104,
   "id": "120b9e48",
   "metadata": {},
   "outputs": [
    {
     "name": "stdout",
     "output_type": "stream",
     "text": [
      "3\n"
     ]
    }
   ],
   "source": [
    "a=1\n",
    "b=2\n",
    "a+=b #a=a+b\n",
    "print(a)"
   ]
  },
  {
   "cell_type": "code",
   "execution_count": 102,
   "id": "5cbf01d4",
   "metadata": {},
   "outputs": [
    {
     "name": "stdout",
     "output_type": "stream",
     "text": [
      "-1\n"
     ]
    }
   ],
   "source": [
    "a=1\n",
    "b=2\n",
    "a-=b #a=a-b\n",
    "print(a)"
   ]
  },
  {
   "cell_type": "code",
   "execution_count": 105,
   "id": "bf41e87e",
   "metadata": {},
   "outputs": [
    {
     "name": "stdout",
     "output_type": "stream",
     "text": [
      "2\n"
     ]
    }
   ],
   "source": [
    "a=1\n",
    "b=2\n",
    "a*=b #a=a*b\n",
    "print(a)"
   ]
  },
  {
   "cell_type": "code",
   "execution_count": 106,
   "id": "35564340",
   "metadata": {},
   "outputs": [
    {
     "name": "stdout",
     "output_type": "stream",
     "text": [
      "1\n"
     ]
    }
   ],
   "source": [
    "a=1\n",
    "b=2\n",
    "a%=b #a=a%b\n",
    "print(a)"
   ]
  },
  {
   "cell_type": "code",
   "execution_count": 107,
   "id": "cc17059d",
   "metadata": {},
   "outputs": [
    {
     "name": "stdout",
     "output_type": "stream",
     "text": [
      "0.5\n"
     ]
    }
   ],
   "source": [
    "a=1\n",
    "b=2\n",
    "a/=b #a=a/b\n",
    "print(a)"
   ]
  },
  {
   "cell_type": "code",
   "execution_count": 109,
   "id": "54527efb",
   "metadata": {},
   "outputs": [
    {
     "name": "stdout",
     "output_type": "stream",
     "text": [
      "0\n"
     ]
    }
   ],
   "source": [
    "a=1\n",
    "b=2\n",
    "a//=b #a=a//b\n",
    "print(a)"
   ]
  },
  {
   "cell_type": "code",
   "execution_count": 110,
   "id": "0616f2de",
   "metadata": {},
   "outputs": [
    {
     "name": "stdout",
     "output_type": "stream",
     "text": [
      "1\n"
     ]
    }
   ],
   "source": [
    "a=1\n",
    "b=2\n",
    "a**=b #a=a**b\n",
    "print(a)"
   ]
  },
  {
   "cell_type": "markdown",
   "id": "6877730d",
   "metadata": {},
   "source": [
    "# Bitwise AND"
   ]
  },
  {
   "cell_type": "code",
   "execution_count": 113,
   "id": "bf480739",
   "metadata": {},
   "outputs": [
    {
     "data": {
      "text/plain": [
       "2"
      ]
     },
     "execution_count": 113,
     "metadata": {},
     "output_type": "execute_result"
    }
   ],
   "source": [
    "a=10\n",
    "b=22\n",
    "a&b"
   ]
  },
  {
   "cell_type": "code",
   "execution_count": 121,
   "id": "f8f1e309",
   "metadata": {},
   "outputs": [
    {
     "data": {
      "text/plain": [
       "8"
      ]
     },
     "execution_count": 121,
     "metadata": {},
     "output_type": "execute_result"
    }
   ],
   "source": [
    "a=29\n",
    "b=232\n",
    "a&b"
   ]
  },
  {
   "cell_type": "markdown",
   "id": "64f4d302",
   "metadata": {},
   "source": [
    "# Bitwise OR"
   ]
  },
  {
   "cell_type": "code",
   "execution_count": 123,
   "id": "4279afc8",
   "metadata": {},
   "outputs": [
    {
     "data": {
      "text/plain": [
       "30"
      ]
     },
     "execution_count": 123,
     "metadata": {},
     "output_type": "execute_result"
    }
   ],
   "source": [
    "a=10\n",
    "b=22\n",
    "a|b"
   ]
  },
  {
   "cell_type": "code",
   "execution_count": 124,
   "id": "1e562fb3",
   "metadata": {},
   "outputs": [
    {
     "data": {
      "text/plain": [
       "253"
      ]
     },
     "execution_count": 124,
     "metadata": {},
     "output_type": "execute_result"
    }
   ],
   "source": [
    "a=29\n",
    "b=232\n",
    "a|b"
   ]
  }
 ],
 "metadata": {
  "kernelspec": {
   "display_name": "Python 3",
   "language": "python",
   "name": "python3"
  },
  "language_info": {
   "codemirror_mode": {
    "name": "ipython",
    "version": 3
   },
   "file_extension": ".py",
   "mimetype": "text/x-python",
   "name": "python",
   "nbconvert_exporter": "python",
   "pygments_lexer": "ipython3",
   "version": "3.8.8"
  }
 },
 "nbformat": 4,
 "nbformat_minor": 5
}
